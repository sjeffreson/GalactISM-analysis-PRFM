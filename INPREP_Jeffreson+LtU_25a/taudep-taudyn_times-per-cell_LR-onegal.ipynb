{
 "cells": [
  {
   "cell_type": "code",
   "execution_count": 1,
   "metadata": {},
   "outputs": [],
   "source": [
    "import pickle\n",
    "from pathlib import Path\n",
    "import glob, os, re, sys\n",
    "sys.path.append('../')\n",
    "\n",
    "import configparser\n",
    "config = configparser.ConfigParser()\n",
    "config.read('../../GalactISM/config_Forces.ini')\n",
    "\n",
    "import numpy as np\n",
    "from scipy.stats import binned_statistic_2d\n",
    "\n",
    "import astro_helper as ah\n",
    "import PRFM_helper as ph\n",
    "\n",
    "%matplotlib inline\n",
    "import matplotlib as mpl\n",
    "import matplotlib.pyplot as plt\n",
    "from matplotlib import cm\n",
    "import matplotlib.patches as patches\n",
    "from matplotlib import rc\n",
    "from matplotlib.ticker import LogLocator\n",
    "from matplotlib.lines import Line2D\n",
    "from matplotlib.colors import LogNorm\n",
    "rc('axes', linewidth=1.5)\n",
    "rc('axes', edgecolor='#3C3C3C')\n",
    "plt.style.use('mpl_style_Jeffreson.mplstyle')"
   ]
  },
  {
   "cell_type": "markdown",
   "metadata": {},
   "source": [
    "# Load the data"
   ]
  },
  {
   "cell_type": "code",
   "execution_count": 2,
   "metadata": {},
   "outputs": [],
   "source": [
    "titles = ['ETG-lowM']"
   ]
  },
  {
   "cell_type": "markdown",
   "metadata": {},
   "source": [
    "## PRFM, unresolved"
   ]
  },
  {
   "cell_type": "code",
   "execution_count": 3,
   "metadata": {},
   "outputs": [],
   "source": [
    "# PRFM, unresolved files\n",
    "dirs_prfm = [\n",
    "    '/LtU/LOW-PRFM/'\n",
    "]\n",
    "files_prfm = []\n",
    "for dir_prfm in dirs_prfm:\n",
    "    files = glob.glob('/n/holystore01/LABS/itc_lab/Users/sjeffreson/'+dir_prfm+'/output/snap_*.hdf5')\n",
    "    files = [x for _, x in sorted(zip([int(re.search(r'\\d+', x).group()) for x in files], files))]\n",
    "    files = files[5:]\n",
    "    files_prfm.append(files)"
   ]
  },
  {
   "cell_type": "code",
   "execution_count": 4,
   "metadata": {},
   "outputs": [
    {
     "name": "stdout",
     "output_type": "stream",
     "text": [
      "ETG-lowM\n"
     ]
    },
    {
     "ename": "AttributeError",
     "evalue": "module 'PRFM_helper' has no attribute 'collect_tau_deps'",
     "output_type": "error",
     "traceback": [
      "\u001b[0;31m---------------------------------------------------------------------------\u001b[0m",
      "\u001b[0;31mAttributeError\u001b[0m                            Traceback (most recent call last)",
      "Cell \u001b[0;32mIn[4], line 4\u001b[0m\n\u001b[1;32m      2\u001b[0m \u001b[38;5;28;01mfor\u001b[39;00m files, title \u001b[38;5;129;01min\u001b[39;00m \u001b[38;5;28mzip\u001b[39m(files_prfm, titles):\n\u001b[1;32m      3\u001b[0m     \u001b[38;5;28mprint\u001b[39m(title)\n\u001b[0;32m----> 4\u001b[0m     tau_deps, SFRs \u001b[38;5;241m=\u001b[39m \u001b[43mph\u001b[49m\u001b[38;5;241;43m.\u001b[39;49m\u001b[43mcollect_tau_deps\u001b[49m(files)\n\u001b[1;32m      5\u001b[0m     tau_deps_prfm\u001b[38;5;241m.\u001b[39mappend(tau_deps)\n\u001b[1;32m      6\u001b[0m     SFRs_prfm\u001b[38;5;241m.\u001b[39mappend(SFRs)\n",
      "\u001b[0;31mAttributeError\u001b[0m: module 'PRFM_helper' has no attribute 'collect_tau_deps'"
     ]
    }
   ],
   "source": [
    "tau_deps_prfm, SFRs_prfm = [], []\n",
    "for files, title in zip(files_prfm, titles):\n",
    "    print(title)\n",
    "    tau_deps, SFRs = ph.collect_tau_deps(files)\n",
    "    tau_deps_prfm.append(tau_deps)\n",
    "    SFRs_prfm.append(SFRs)"
   ]
  },
  {
   "cell_type": "code",
   "execution_count": 6,
   "metadata": {},
   "outputs": [
    {
     "name": "stdout",
     "output_type": "stream",
     "text": [
      "MW\n"
     ]
    }
   ],
   "source": [
    "tau_dyns_prfm = []\n",
    "for files, title in zip(files_prfm, titles):\n",
    "    print(title)\n",
    "    tau_dyns = ph.collect_tau_dyns_prfm(files)\n",
    "    tau_dyns_prfm.append(tau_dyns)"
   ]
  },
  {
   "cell_type": "markdown",
   "metadata": {},
   "source": [
    "## PRFM, resolved"
   ]
  },
  {
   "cell_type": "code",
   "execution_count": 7,
   "metadata": {},
   "outputs": [],
   "source": [
    "# PRFM, resolved files\n",
    "dirs_prfm_res = [\n",
    "    '/LtU/LOW-PRFM_RSLVD/'\n",
    "]\n",
    "files_prfm_res = []\n",
    "for dir_prfm_res in dirs_prfm_res:\n",
    "    files = glob.glob('/n/holystore01/LABS/itc_lab/Users/sjeffreson/'+dir_prfm_res+'/output/snap_*.hdf5')\n",
    "    files = [x for _, x in sorted(zip([int(re.search(r'\\d+', x).group()) for x in files], files))]\n",
    "    files = files[5:]\n",
    "    files_prfm_res.append(files)"
   ]
  },
  {
   "cell_type": "code",
   "execution_count": 8,
   "metadata": {},
   "outputs": [
    {
     "name": "stdout",
     "output_type": "stream",
     "text": [
      "MW\n"
     ]
    }
   ],
   "source": [
    "tau_deps_prfm_res, SFRs_prfm_res = [], []\n",
    "for files, title in zip(files_prfm_res, titles):\n",
    "    print(title)\n",
    "    tau_deps, SFRs = ph.collect_tau_deps(files)\n",
    "    tau_deps_prfm_res.append(tau_deps)\n",
    "    SFRs_prfm_res.append(SFRs)"
   ]
  },
  {
   "cell_type": "code",
   "execution_count": 9,
   "metadata": {},
   "outputs": [
    {
     "name": "stdout",
     "output_type": "stream",
     "text": [
      "MW\n"
     ]
    }
   ],
   "source": [
    "tau_dyns_prfm_res = []\n",
    "for files, title in zip(files_prfm_res, titles):\n",
    "    print(title)\n",
    "    tau_dyns = ph.collect_tau_dyns_prfm(files)\n",
    "    tau_dyns_prfm_res.append(tau_dyns)"
   ]
  },
  {
   "cell_type": "markdown",
   "metadata": {},
   "source": [
    "## Springel & Hernquist 03"
   ]
  },
  {
   "cell_type": "code",
   "execution_count": 5,
   "metadata": {},
   "outputs": [],
   "source": [
    "# SH03 files\n",
    "dirs_SH03 = [\n",
    "    '/LtU/LOW-SH03/'\n",
    "]\n",
    "files_SH03 = []\n",
    "for dir_SH03 in dirs_SH03:\n",
    "    files = glob.glob('/n/holystore01/LABS/itc_lab/Users/sjeffreson/'+dir_SH03+'/output/snap_*.hdf5')\n",
    "    files = [x for _, x in sorted(zip([int(re.search(r'\\d+', x).group()) for x in files], files))]\n",
    "    files = files[5:]\n",
    "    files_SH03.append(files)"
   ]
  },
  {
   "cell_type": "code",
   "execution_count": 8,
   "metadata": {},
   "outputs": [
    {
     "name": "stdout",
     "output_type": "stream",
     "text": [
      "ETG-lowM\n"
     ]
    },
    {
     "ename": "KeyError",
     "evalue": "\"Unable to synchronously open object (object 'Veldisp' doesn't exist)\"",
     "output_type": "error",
     "traceback": [
      "\u001b[0;31m---------------------------------------------------------------------------\u001b[0m",
      "\u001b[0;31mKeyError\u001b[0m                                  Traceback (most recent call last)",
      "Cell \u001b[0;32mIn[8], line 4\u001b[0m\n\u001b[1;32m      2\u001b[0m \u001b[38;5;28;01mfor\u001b[39;00m files, title \u001b[38;5;129;01min\u001b[39;00m \u001b[38;5;28mzip\u001b[39m(files_SH03, titles):\n\u001b[1;32m      3\u001b[0m     \u001b[38;5;28mprint\u001b[39m(title)\n\u001b[0;32m----> 4\u001b[0m     tau_deps, tau_dyns, SFRs, nHs, sigmaEffs, SigmaGases, SigmaStars, rhodms, Ptots \u001b[38;5;241m=\u001b[39m \u001b[43mph\u001b[49m\u001b[38;5;241;43m.\u001b[39;49m\u001b[43mcollect_prfm_validation\u001b[49m\u001b[43m(\u001b[49m\u001b[43mfiles\u001b[49m\u001b[43m,\u001b[49m\u001b[43m \u001b[49m\u001b[43mdiameter_kpc\u001b[49m\u001b[38;5;241;43m=\u001b[39;49m\u001b[38;5;241;43m4.\u001b[39;49m\u001b[43m)\u001b[49m\n\u001b[1;32m      5\u001b[0m     tau_deps_SH03\u001b[38;5;241m.\u001b[39mappend(tau_deps)\n\u001b[1;32m      6\u001b[0m     SFRs_SH03\u001b[38;5;241m.\u001b[39mappend(SFRs)\n",
      "File \u001b[0;32m~/pressure_regulated_SF_analysis/PRFM-Arepo/PRFM_helper.py:16\u001b[0m, in \u001b[0;36mcollect_prfm_validation\u001b[0;34m(files, diameter_kpc)\u001b[0m\n\u001b[1;32m     14\u001b[0m mass \u001b[38;5;241m=\u001b[39m f[\u001b[38;5;124m'\u001b[39m\u001b[38;5;124mPartType0\u001b[39m\u001b[38;5;124m'\u001b[39m][\u001b[38;5;124m'\u001b[39m\u001b[38;5;124mMasses\u001b[39m\u001b[38;5;124m'\u001b[39m][:] \u001b[38;5;241m*\u001b[39m f[\u001b[38;5;124m'\u001b[39m\u001b[38;5;124mPartType0\u001b[39m\u001b[38;5;124m'\u001b[39m][\u001b[38;5;124m'\u001b[39m\u001b[38;5;124mMasses\u001b[39m\u001b[38;5;124m'\u001b[39m]\u001b[38;5;241m.\u001b[39mattrs[\u001b[38;5;124m'\u001b[39m\u001b[38;5;124mto_cgs\u001b[39m\u001b[38;5;124m'\u001b[39m]\n\u001b[1;32m     15\u001b[0m density \u001b[38;5;241m=\u001b[39m f[\u001b[38;5;124m'\u001b[39m\u001b[38;5;124mPartType0\u001b[39m\u001b[38;5;124m'\u001b[39m][\u001b[38;5;124m'\u001b[39m\u001b[38;5;124mDensity\u001b[39m\u001b[38;5;124m'\u001b[39m][:] \u001b[38;5;241m*\u001b[39m f[\u001b[38;5;124m'\u001b[39m\u001b[38;5;124mPartType0\u001b[39m\u001b[38;5;124m'\u001b[39m][\u001b[38;5;124m'\u001b[39m\u001b[38;5;124mDensity\u001b[39m\u001b[38;5;124m'\u001b[39m]\u001b[38;5;241m.\u001b[39mattrs[\u001b[38;5;124m'\u001b[39m\u001b[38;5;124mto_cgs\u001b[39m\u001b[38;5;124m'\u001b[39m]\n\u001b[0;32m---> 16\u001b[0m sigmaEff \u001b[38;5;241m=\u001b[39m \u001b[43mf\u001b[49m\u001b[43m[\u001b[49m\u001b[38;5;124;43m'\u001b[39;49m\u001b[38;5;124;43mPartType0\u001b[39;49m\u001b[38;5;124;43m'\u001b[39;49m\u001b[43m]\u001b[49m\u001b[43m[\u001b[49m\u001b[38;5;124;43m'\u001b[39;49m\u001b[38;5;124;43mVeldisp\u001b[39;49m\u001b[38;5;124;43m'\u001b[39;49m\u001b[43m]\u001b[49m[:] \u001b[38;5;241m*\u001b[39m f[\u001b[38;5;124m'\u001b[39m\u001b[38;5;124mHeader\u001b[39m\u001b[38;5;124m'\u001b[39m]\u001b[38;5;241m.\u001b[39mattrs[\u001b[38;5;124m'\u001b[39m\u001b[38;5;124mUnitVelocity_in_cm_per_s\u001b[39m\u001b[38;5;124m'\u001b[39m]\n\u001b[1;32m     17\u001b[0m UnitPress_in_cgs \u001b[38;5;241m=\u001b[39m f[\u001b[38;5;124m'\u001b[39m\u001b[38;5;124mHeader\u001b[39m\u001b[38;5;124m'\u001b[39m]\u001b[38;5;241m.\u001b[39mattrs[\u001b[38;5;124m'\u001b[39m\u001b[38;5;124mUnitMass_in_g\u001b[39m\u001b[38;5;124m'\u001b[39m] \u001b[38;5;241m*\u001b[39m f[\u001b[38;5;124m'\u001b[39m\u001b[38;5;124mHeader\u001b[39m\u001b[38;5;124m'\u001b[39m]\u001b[38;5;241m.\u001b[39mattrs[\u001b[38;5;124m'\u001b[39m\u001b[38;5;124mUnitVelocity_in_cm_per_s\u001b[39m\u001b[38;5;124m'\u001b[39m]\u001b[38;5;241m*\u001b[39m\u001b[38;5;241m*\u001b[39m\u001b[38;5;241m2\u001b[39m \u001b[38;5;241m/\u001b[39m (f[\u001b[38;5;124m'\u001b[39m\u001b[38;5;124mHeader\u001b[39m\u001b[38;5;124m'\u001b[39m]\u001b[38;5;241m.\u001b[39mattrs[\u001b[38;5;124m'\u001b[39m\u001b[38;5;124mUnitLength_in_cm\u001b[39m\u001b[38;5;124m'\u001b[39m])\u001b[38;5;241m*\u001b[39m\u001b[38;5;241m*\u001b[39m\u001b[38;5;241m3\u001b[39m\n\u001b[1;32m     18\u001b[0m Ptot \u001b[38;5;241m=\u001b[39m f[\u001b[38;5;124m'\u001b[39m\u001b[38;5;124mPartType0\u001b[39m\u001b[38;5;124m'\u001b[39m][\u001b[38;5;124m'\u001b[39m\u001b[38;5;124mPDE\u001b[39m\u001b[38;5;124m'\u001b[39m][:] \u001b[38;5;241m*\u001b[39m UnitPress_in_cgs\n",
      "File \u001b[0;32mh5py/_objects.pyx:54\u001b[0m, in \u001b[0;36mh5py._objects.with_phil.wrapper\u001b[0;34m()\u001b[0m\n",
      "File \u001b[0;32mh5py/_objects.pyx:55\u001b[0m, in \u001b[0;36mh5py._objects.with_phil.wrapper\u001b[0;34m()\u001b[0m\n",
      "File \u001b[0;32m~/.conda/envs/jupyter_py3.8/lib/python3.8/site-packages/h5py/_hl/group.py:357\u001b[0m, in \u001b[0;36mGroup.__getitem__\u001b[0;34m(self, name)\u001b[0m\n\u001b[1;32m    355\u001b[0m         \u001b[38;5;28;01mraise\u001b[39;00m \u001b[38;5;167;01mValueError\u001b[39;00m(\u001b[38;5;124m\"\u001b[39m\u001b[38;5;124mInvalid HDF5 object reference\u001b[39m\u001b[38;5;124m\"\u001b[39m)\n\u001b[1;32m    356\u001b[0m \u001b[38;5;28;01melif\u001b[39;00m \u001b[38;5;28misinstance\u001b[39m(name, (\u001b[38;5;28mbytes\u001b[39m, \u001b[38;5;28mstr\u001b[39m)):\n\u001b[0;32m--> 357\u001b[0m     oid \u001b[38;5;241m=\u001b[39m \u001b[43mh5o\u001b[49m\u001b[38;5;241;43m.\u001b[39;49m\u001b[43mopen\u001b[49m\u001b[43m(\u001b[49m\u001b[38;5;28;43mself\u001b[39;49m\u001b[38;5;241;43m.\u001b[39;49m\u001b[43mid\u001b[49m\u001b[43m,\u001b[49m\u001b[43m \u001b[49m\u001b[38;5;28;43mself\u001b[39;49m\u001b[38;5;241;43m.\u001b[39;49m\u001b[43m_e\u001b[49m\u001b[43m(\u001b[49m\u001b[43mname\u001b[49m\u001b[43m)\u001b[49m\u001b[43m,\u001b[49m\u001b[43m \u001b[49m\u001b[43mlapl\u001b[49m\u001b[38;5;241;43m=\u001b[39;49m\u001b[38;5;28;43mself\u001b[39;49m\u001b[38;5;241;43m.\u001b[39;49m\u001b[43m_lapl\u001b[49m\u001b[43m)\u001b[49m\n\u001b[1;32m    358\u001b[0m \u001b[38;5;28;01melse\u001b[39;00m:\n\u001b[1;32m    359\u001b[0m     \u001b[38;5;28;01mraise\u001b[39;00m \u001b[38;5;167;01mTypeError\u001b[39;00m(\u001b[38;5;124m\"\u001b[39m\u001b[38;5;124mAccessing a group is done with bytes or str, \u001b[39m\u001b[38;5;124m\"\u001b[39m\n\u001b[1;32m    360\u001b[0m                     \u001b[38;5;124m\"\u001b[39m\u001b[38;5;124mnot \u001b[39m\u001b[38;5;132;01m{}\u001b[39;00m\u001b[38;5;124m\"\u001b[39m\u001b[38;5;241m.\u001b[39mformat(\u001b[38;5;28mtype\u001b[39m(name)))\n",
      "File \u001b[0;32mh5py/_objects.pyx:54\u001b[0m, in \u001b[0;36mh5py._objects.with_phil.wrapper\u001b[0;34m()\u001b[0m\n",
      "File \u001b[0;32mh5py/_objects.pyx:55\u001b[0m, in \u001b[0;36mh5py._objects.with_phil.wrapper\u001b[0;34m()\u001b[0m\n",
      "File \u001b[0;32mh5py/h5o.pyx:189\u001b[0m, in \u001b[0;36mh5py.h5o.open\u001b[0;34m()\u001b[0m\n",
      "\u001b[0;31mKeyError\u001b[0m: \"Unable to synchronously open object (object 'Veldisp' doesn't exist)\""
     ]
    }
   ],
   "source": [
    "tau_deps_SH03, SFRs_SH03 = [], []\n",
    "for files, title in zip(files_SH03, titles):\n",
    "    print(title)\n",
    "    tau_deps, tau_dyns, SFRs, nHs, sigmaEffs, SigmaGases, SigmaStars, rhodms, Ptots = ph.collect_prfm_validation(files, diameter_kpc=4.)\n",
    "    tau_deps_SH03.append(tau_deps)\n",
    "    SFRs_SH03.append(SFRs)"
   ]
  },
  {
   "cell_type": "code",
   "execution_count": 7,
   "metadata": {},
   "outputs": [
    {
     "name": "stdout",
     "output_type": "stream",
     "text": [
      "ETG-lowM\n"
     ]
    }
   ],
   "source": [
    "tau_dyns_SH03 = []\n",
    "for files, title in zip(files_SH03, titles):\n",
    "    print(title)\n",
    "    tau_dyns = ph.collect_tau_dyns(files, mode='SH03')\n",
    "    tau_dyns_SH03.append(tau_dyns)"
   ]
  },
  {
   "cell_type": "markdown",
   "metadata": {},
   "source": [
    "# figure"
   ]
  },
  {
   "cell_type": "code",
   "execution_count": 13,
   "metadata": {},
   "outputs": [
    {
     "data": {
      "image/png": "[encoded data removed]",
      "text/plain": [
       "<Figure size 1400x450 with 3 Axes>"
      ]
     },
     "metadata": {},
     "output_type": "display_data"
    }
   ],
   "source": [
    "# 2D histogram of tau_dyn (x-axis) vs. tau_dep (y-axis) for PRFM and control (SH03) case,\n",
    "# on two separate axes\n",
    "fig, ax = plt.subplots(1, 3, figsize=(14, 4.5))\n",
    "\n",
    "for ax_ in ax:\n",
    "    ax_.tick_params(axis = 'both', bottom = True, top = True, left = True, right = True,\n",
    "                   which = 'both', direction='in')\n",
    "    ax_.minorticks_on()\n",
    "\n",
    "# PRFM unresolved\n",
    "tau_deps, tau_dyns, SFRs = tau_deps_prfm[0], tau_dyns_prfm[0], SFRs_prfm[0]\n",
    "frac_SFR, _, _, _ = binned_statistic_2d(\n",
    "    np.log10(tau_dyns/ah.Gyr_to_s), np.log10(tau_deps/ah.Gyr_to_s),\n",
    "    SFRs, statistic='sum',\n",
    "    bins=(np.linspace(-4., 0., 50), np.linspace(-3., 2., 50))\n",
    ")\n",
    "frac_SFR /= np.sum(frac_SFR)\n",
    "ax[0].imshow(frac_SFR.T, origin='lower',\n",
    "                 extent=(-4., 0., -3., 2.), aspect='auto',\n",
    "                 cmap=plt.cm.bone_r, norm=LogNorm(vmin=1.e-4, vmax=1.e-1))\n",
    "ax[0].set_title('PRFM unresolved', pad=10, fontsize=20)\n",
    "\n",
    "# PRFM resolved\n",
    "tau_deps, tau_dyns, SFRs = tau_deps_prfm_res[0], tau_dyns_prfm_res[0], SFRs_prfm_res[0]\n",
    "frac_SFR, _, _, _ = binned_statistic_2d(\n",
    "    np.log10(tau_dyns/ah.Gyr_to_s), np.log10(tau_deps/ah.Gyr_to_s),\n",
    "    SFRs, statistic='sum',\n",
    "    bins=(np.linspace(-4., 0., 50), np.linspace(-3., 2., 50))\n",
    ")\n",
    "frac_SFR /= np.sum(frac_SFR)\n",
    "ax[1].imshow(frac_SFR.T, origin='lower',\n",
    "                 extent=(-4., 0., -3., 2.), aspect='auto',\n",
    "                 cmap=plt.cm.bone_r, norm=LogNorm(vmin=1.e-4, vmax=1.e-1))\n",
    "ax[1].set_title('PRFM resolved', pad=10, fontsize=20)\n",
    "\n",
    "# SH03\n",
    "tau_deps, tau_dyns, SFRs = tau_deps_SH03[0], tau_dyns_SH03[0], SFRs_SH03[0]\n",
    "frac_SFR, _, _, _ = binned_statistic_2d(\n",
    "    np.log10(tau_dyns/ah.Gyr_to_s), np.log10(tau_deps/ah.Gyr_to_s),\n",
    "    SFRs, statistic='sum',\n",
    "    bins=(np.linspace(-4., 0., 50), np.linspace(-3., 2., 50))\n",
    ")\n",
    "frac_SFR /= np.sum(frac_SFR)\n",
    "ax[2].imshow(frac_SFR.T, origin='lower',\n",
    "                 extent=(-4., 0., -3., 2.), aspect='auto',\n",
    "                 cmap=plt.cm.bone_r, norm=LogNorm(vmin=1.e-4, vmax=1.e-1))\n",
    "ax[2].set_title('SH03', pad=10, fontsize=20)\n",
    "\n",
    "# remove y-labels\n",
    "for i in range(1, 3):\n",
    "    ax[i].set_yticklabels([])\n",
    "\n",
    "ax[0].set_ylabel(r'$\\log{(\\tau_{\\rm dep}/{\\rm Gyr})}$', color='k')\n",
    "fig.text(0.5, -0.05, r'$\\log{(\\tau_{\\rm dyn}/{\\rm Gyr})}$', ha='center', va='center')\n",
    "\n",
    "plt.subplots_adjust(hspace=0.1, wspace=0.1)\n",
    "\n",
    "# plt.savefig(\n",
    "#     '/n/holystore01/LABS/itc_lab/Users/sjeffreson/PRFM-unresolved/figs/ETG-vlM_prelim.pdf',\n",
    "#     bbox_inches='tight',\n",
    "#     format='pdf'\n",
    "# )\n",
    "plt.show()"
   ]
  },
  {
   "cell_type": "code",
   "execution_count": null,
   "metadata": {},
   "outputs": [],
   "source": []
  },
  {
   "cell_type": "code",
   "execution_count": null,
   "metadata": {},
   "outputs": [],
   "source": []
  },
  {
   "cell_type": "code",
   "execution_count": null,
   "metadata": {},
   "outputs": [],
   "source": []
  }
 ],
 "metadata": {
  "kernelspec": {
   "display_name": "Python 3 (ipykernel)",
   "language": "python",
   "name": "python3"
  },
  "language_info": {
   "codemirror_mode": {
    "name": "ipython",
    "version": 3
   },
   "file_extension": ".py",
   "mimetype": "text/x-python",
   "name": "python",
   "nbconvert_exporter": "python",
   "pygments_lexer": "ipython3",
   "version": "3.8.18"
  }
 },
 "nbformat": 4,
 "nbformat_minor": 4
}

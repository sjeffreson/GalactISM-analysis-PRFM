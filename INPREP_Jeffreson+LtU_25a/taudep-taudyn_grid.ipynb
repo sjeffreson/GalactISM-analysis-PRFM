{
 "cells": [
  {
   "cell_type": "code",
   "execution_count": 16,
   "metadata": {},
   "outputs": [],
   "source": [
    "import pickle\n",
    "from pathlib import Path\n",
    "import glob, os, re, sys\n",
    "sys.path.append('../')\n",
    "\n",
    "import configparser\n",
    "\n",
    "import numpy as np\n",
    "from scipy.stats import binned_statistic, binned_statistic_2d\n",
    "\n",
    "import astro_helper as ah\n",
    "import PRFM_helper as ph\n",
    "\n",
    "%matplotlib inline\n",
    "import matplotlib as mpl\n",
    "import matplotlib.pyplot as plt\n",
    "from matplotlib import cm\n",
    "import matplotlib.patches as patches\n",
    "from matplotlib import rc\n",
    "from matplotlib.ticker import LogLocator\n",
    "from matplotlib.lines import Line2D\n",
    "from matplotlib.colors import LogNorm\n",
    "rc('axes', linewidth=1.5)\n",
    "rc('axes', edgecolor='#3C3C3C')\n",
    "plt.style.use('mpl_style_Jeffreson.mplstyle')"
   ]
  },
  {
   "cell_type": "markdown",
   "metadata": {},
   "source": [
    "# Load the data"
   ]
  },
  {
   "cell_type": "code",
   "execution_count": 2,
   "metadata": {},
   "outputs": [],
   "source": [
    "titles = ['MW']"
   ]
  },
  {
   "cell_type": "code",
   "execution_count": 3,
   "metadata": {},
   "outputs": [],
   "source": [
    "def get_image_data(filename):\n",
    "    with open(filename, \"rb\") as f:\n",
    "        xpix = np.fromfile(f, dtype=np.int32, count=1)[0]\n",
    "        ypix = np.fromfile(f, dtype=np.int32, count=1)[0]\n",
    "        img = np.fromfile(f, dtype=np.float32, count=xpix*ypix)\n",
    "    img = np.reshape(img, (xpix, ypix))\n",
    "    return img"
   ]
  },
  {
   "cell_type": "markdown",
   "metadata": {},
   "source": [
    "## PRFM, unresolved"
   ]
  },
  {
   "cell_type": "code",
   "execution_count": 4,
   "metadata": {},
   "outputs": [
    {
     "name": "stderr",
     "output_type": "stream",
     "text": [
      "/tmp/ipykernel_3987401/1748090675.py:31: RuntimeWarning: divide by zero encountered in divide\n",
      "  tau_deps = Sigmagas * 10. * 0.08**2 / Sfrs\n",
      "/tmp/ipykernel_3987401/1748090675.py:43: RuntimeWarning: invalid value encountered in divide\n",
      "  tau_dyns = (Sigmagas*Sigma_unit * Veldisps*Veldisp_unit / (PDEs*press_unit)) / ah.Gyr_to_s\n",
      "/tmp/ipykernel_3987401/1748090675.py:29: RuntimeWarning: divide by zero encountered in divide\n",
      "  tau_deps = Sigmagas * 0.08**2 / Sfrs\n"
     ]
    }
   ],
   "source": [
    "# SH03 files\n",
    "dirs_PRFM = [\n",
    "    '/LOW-ETGs/vlM-PRFM/',\n",
    "    '/LOW-ETGs/lowM-PRFM/',\n",
    "    '/LOW-ETGs/medM-PRFM/',\n",
    "    '/LOW-ETGs/hiM-PRFM/',\n",
    "    '/LtU/LOW-PRFM/'\n",
    "]\n",
    "tau_deps_PRFM, tau_dyns_PRFM, SFRs_PRFM = [], [], []\n",
    "for dir_PRFM in dirs_PRFM:\n",
    "    filenames_Sfr = sorted(glob.glob('/n/holystore01/LABS/itc_lab/Users/sjeffreson/'+dir_PRFM+'/output/Sfr_proj_*'),\n",
    "                           key=lambda x: int(x.split('_')[-1])) # Msol/kpc^2/yr\n",
    "    filenames_Veldisp = sorted(glob.glob('/n/holystore01/LABS/itc_lab/Users/sjeffreson/'+dir_PRFM+'/output/Veldisp_proj_*'),\n",
    "                                key=lambda x: int(x.split('_')[-1]))\n",
    "    filenames_PDE = sorted(glob.glob('/n/holystore01/LABS/itc_lab/Users/sjeffreson/'+dir_PRFM+'/output/PDE_proj_*'),\n",
    "                            key=lambda x: int(x.split('_')[-1]))\n",
    "    filenames_Sigmagas = sorted(glob.glob('/n/holystore01/LABS/itc_lab/Users/sjeffreson/'+dir_PRFM+'/output/density_proj_*'),\n",
    "                                key=lambda x: int(x.split('_')[-1])) # 10^9 Msol/kpc^2\n",
    "\n",
    "    # load all as a flat raveled array\n",
    "    testfile = get_image_data(filenames_Sfr[0])\n",
    "    Sfrs = np.array([np.ravel(get_image_data(file)) for file in filenames_Sfr]).flatten()\n",
    "    Veldisps = np.array([np.ravel(get_image_data(file)) for file in filenames_Veldisp]).flatten()\n",
    "    PDEs = np.array([np.ravel(get_image_data(file)) for file in filenames_PDE]).flatten()\n",
    "    Sigmagas = np.array([np.ravel(get_image_data(file)) for file in filenames_Sigmagas]).flatten()\n",
    "\n",
    "    # depletion time, something to do with how projected values are calculated?\n",
    "    if dir_PRFM == '/LtU/LOW-PRFM/':\n",
    "        tau_deps = Sigmagas * 0.08**2 / Sfrs\n",
    "    else:\n",
    "        tau_deps = Sigmagas * 10. * 0.08**2 / Sfrs\n",
    "    tau_deps_PRFM.append(tau_deps)\n",
    "    SFRs_PRFM.append(Sfrs)\n",
    "\n",
    "    # dynamical time, probably out by some kB factor in internal units\n",
    "    if dir_PRFM == '/LtU/LOW-PRFM/':\n",
    "        arepo_mass_unit = 1.e9\n",
    "    else:\n",
    "        arepo_mass_unit = 1.e10\n",
    "    press_unit = arepo_mass_unit*1.99e33*(1.e5)**2/(3.086e21)**3\n",
    "    Sigma_unit = arepo_mass_unit*1.99e33/(3.086e21)**2\n",
    "    Veldisp_unit = 1.e5\n",
    "    tau_dyns = (Sigmagas*Sigma_unit * Veldisps*Veldisp_unit / (PDEs*press_unit)) / ah.Gyr_to_s\n",
    "    tau_dyns_PRFM.append(tau_dyns)"
   ]
  },
  {
   "cell_type": "code",
   "execution_count": 5,
   "metadata": {},
   "outputs": [
    {
     "data": {
      "image/png": "[encoded data removed]",
      "text/plain": [
       "<Figure size 640x480 with 1 Axes>"
      ]
     },
     "metadata": {},
     "output_type": "display_data"
    }
   ],
   "source": [
    "# scatter against each other\n",
    "i = 0\n",
    "tau_deps, tau_dyns, SFRs = tau_deps_PRFM[i], tau_dyns_PRFM[i], SFRs_PRFM[i]\n",
    "frac_SFR, _, _, _ = binned_statistic_2d(\n",
    "    np.log10(tau_dyns), np.log10(tau_deps),\n",
    "    SFRs, statistic='sum',\n",
    "    bins=(np.linspace(-4., 0., 50), np.linspace(-3., 2., 50))\n",
    ")\n",
    "frac_SFR /= np.sum(frac_SFR)\n",
    "plt.imshow(frac_SFR.T, origin='lower',\n",
    "                 extent=(-4., 0., -3., 2.), aspect='auto',\n",
    "                 cmap=plt.cm.bone_r, norm=LogNorm(vmin=1.e-5, vmax=1.e-1))\n",
    "plt.show()"
   ]
  },
  {
   "cell_type": "markdown",
   "metadata": {},
   "source": [
    "## PRFM, resolved"
   ]
  },
  {
   "cell_type": "code",
   "execution_count": 6,
   "metadata": {},
   "outputs": [
    {
     "name": "stderr",
     "output_type": "stream",
     "text": [
      "/tmp/ipykernel_3987401/4104979170.py:30: RuntimeWarning: divide by zero encountered in divide\n",
      "  tau_deps = Sigmagas * 10. * 0.08**2 / Sfrs\n",
      "/tmp/ipykernel_3987401/4104979170.py:42: RuntimeWarning: invalid value encountered in divide\n",
      "  tau_dyns = (Sigmagas*Sigma_unit * Veldisps*Veldisp_unit / (PDEs*press_unit)) / ah.Gyr_to_s\n",
      "/tmp/ipykernel_3987401/4104979170.py:28: RuntimeWarning: divide by zero encountered in divide\n",
      "  tau_deps = Sigmagas * 0.08**2 / Sfrs\n"
     ]
    }
   ],
   "source": [
    "dirs_PRFM_r = [\n",
    "    '/LOW-ETGs/vlM-PRFM-res/',\n",
    "    '/LOW-ETGs/lowM-PRFM-res/',\n",
    "    '/LOW-ETGs/medM-PRFM-res/',\n",
    "    '/LOW-ETGs/hiM-PRFM-res/',\n",
    "    '/LtU/LOW-PRFM_RSLVD/'\n",
    "]\n",
    "tau_deps_PRFM_r, tau_dyns_PRFM_r, SFRs_PRFM_r = [], [], []\n",
    "for dir_PRFM_r in dirs_PRFM_r:\n",
    "    filenames_Sfr = glob.glob('/n/holystore01/LABS/itc_lab/Users/sjeffreson/'+dir_PRFM_r+'/output/Sfr_proj_*') # Msol/kpc^2/yr\n",
    "    filenames_Veldisp = glob.glob('/n/holystore01/LABS/itc_lab/Users/sjeffreson/'+dir_PRFM_r+'/output/Veldisp_proj_*')\n",
    "    filenames_PDE = glob.glob('/n/holystore01/LABS/itc_lab/Users/sjeffreson/'+dir_PRFM_r+'/output/PDE_proj_*')\n",
    "    filenames_Sigmagas = glob.glob('/n/holystore01/LABS/itc_lab/Users/sjeffreson/'+dir_PRFM_r+'/output/density_proj_*') # 10^9 Msol/kpc^2\n",
    "\n",
    "    files_Sfr = [x for _, x in sorted(zip([int(re.search(r'\\d+', x).group()) for x in filenames_Sfr], filenames_Sfr))]\n",
    "    files_Veldisp = [x for _, x in sorted(zip([int(re.search(r'\\d+', x).group()) for x in filenames_Veldisp], filenames_Veldisp))]\n",
    "    files_PDE = [x for _, x in sorted(zip([int(re.search(r'\\d+', x).group()) for x in filenames_PDE], filenames_PDE))]\n",
    "    files_Sigmagas = [x for _, x in sorted(zip([int(re.search(r'\\d+', x).group()) for x in filenames_Sigmagas], filenames_Sigmagas))]\n",
    "\n",
    "    # load all as a flat raveled array\n",
    "    Sfrs = np.array([np.ravel(get_image_data(file)) for file in files_Sfr]).flatten()\n",
    "    Veldisps = np.array([np.ravel(get_image_data(file)) for file in files_Veldisp]).flatten()\n",
    "    PDEs = np.array([np.ravel(get_image_data(file)) for file in files_PDE]).flatten()\n",
    "    Sigmagas = np.array([np.ravel(get_image_data(file)) for file in files_Sigmagas]).flatten()\n",
    "\n",
    "    # depletion time, something to do with how projected values are calculated?\n",
    "    if dir_PRFM_r=='/LtU/LOW-PRFM_RSLVD/':\n",
    "        tau_deps = Sigmagas * 0.08**2 / Sfrs\n",
    "    else:\n",
    "        tau_deps = Sigmagas * 10. * 0.08**2 / Sfrs\n",
    "    tau_deps_PRFM_r.append(tau_deps)\n",
    "    SFRs_PRFM_r.append(Sfrs)\n",
    "\n",
    "    # dynamical time, probably out by some kB factor in internal units\n",
    "    if dir_PRFM_r=='/LtU/LOW-PRFM_RSLVD/':\n",
    "        arepo_mass_unit = 1.e9\n",
    "    else:\n",
    "        arepo_mass_unit = 1.e10\n",
    "    press_unit = arepo_mass_unit*1.99e33*(1.e5)**2/(3.086e21)**3\n",
    "    Sigma_unit = arepo_mass_unit*1.99e33/(3.086e21)**2\n",
    "    Veldisp_unit = 1.e5\n",
    "    tau_dyns = (Sigmagas*Sigma_unit * Veldisps*Veldisp_unit / (PDEs*press_unit)) / ah.Gyr_to_s\n",
    "    tau_dyns_PRFM_r.append(tau_dyns)"
   ]
  },
  {
   "cell_type": "code",
   "execution_count": 7,
   "metadata": {},
   "outputs": [
    {
     "data": {
      "image/png": "[encoded data removed]",
      "text/plain": [
       "<Figure size 640x480 with 1 Axes>"
      ]
     },
     "metadata": {},
     "output_type": "display_data"
    }
   ],
   "source": [
    "# scatter against each other\n",
    "tau_deps, tau_dyns, SFRs = tau_deps_PRFM_r[0], tau_dyns_PRFM_r[0], SFRs_PRFM_r[0]\n",
    "frac_SFR, _, _, _ = binned_statistic_2d(\n",
    "    np.log10(tau_dyns), np.log10(tau_deps),\n",
    "    SFRs, statistic='sum',\n",
    "    bins=(np.linspace(-4., 0., 50), np.linspace(-3., 2., 50))\n",
    ")\n",
    "frac_SFR /= np.sum(frac_SFR)\n",
    "plt.imshow(frac_SFR.T, origin='lower',\n",
    "                 extent=(-4., 0., -3., 2.), aspect='auto',\n",
    "                 cmap=plt.cm.bone_r, norm=LogNorm(vmin=1.e-5, vmax=1.e-1))\n",
    "plt.show()"
   ]
  },
  {
   "cell_type": "markdown",
   "metadata": {},
   "source": [
    "## Springel & Hernquist 03"
   ]
  },
  {
   "cell_type": "code",
   "execution_count": 8,
   "metadata": {},
   "outputs": [],
   "source": [
    "# dirs_SH03 = [\n",
    "#     '/LtU/LOW-SH03/'\n",
    "# ]\n",
    "# tags = ['MW']\n",
    "\n",
    "# tau_deps_SH03, tau_dyns_SH03, SFRs_SH03 = [], [], []\n",
    "# for tag, dir_SH03 in zip(tags, dirs_SH03):\n",
    "#     # depletion times\n",
    "#     filenames_Sfr = glob.glob('/n/holystore01/LABS/itc_lab/Users/sjeffreson/'+dir_SH03+'/output/Sfr_proj_*') # Msol/kpc^2/yr\n",
    "#     filenames_temp = glob.glob('/n/holystore01/LABS/itc_lab/Users/sjeffreson/'+dir_SH03+'/output/temp_proj_*')\n",
    "#     filenames_Sigmagas = glob.glob('/n/holystore01/LABS/itc_lab/Users/sjeffreson/'+dir_SH03+'/output/density_proj_*') # 10^9 Msol/kpc^2\n",
    "\n",
    "#     files_Sfr = [x for _, x in sorted(zip([int(re.search(r'\\d+', x).group()) for x in filenames_Sfr], filenames_Sfr))]\n",
    "#     files_temp = [x for _, x in sorted(zip([int(re.search(r'\\d+', x).group()) for x in filenames_temp], filenames_temp))]\n",
    "#     files_Sigmagas = [x for _, x in sorted(zip([int(re.search(r'\\d+', x).group()) for x in filenames_Sigmagas], filenames_Sigmagas))]\n",
    "\n",
    "#     # load all as a flat raveled array\n",
    "#     Sfrs = np.array([np.ravel(get_image_data(file)) for file in files_Sfr]).flatten()\n",
    "#     temps = np.array([np.ravel(get_image_data(file)) for file in files_temp]).flatten()\n",
    "#     Sigmagas = np.array([np.ravel(get_image_data(file)) for file in files_Sigmagas]).flatten()\n",
    "\n",
    "#     # depletion time, something to do with how projected values are calculated?\n",
    "#     tau_deps = Sigmagas * 0.08**2 / Sfrs\n",
    "#     tau_deps_SH03.append(tau_deps)\n",
    "#     SFRs_SH03.append(Sfrs)\n",
    "\n",
    "#     # dynamical times\n",
    "#     tag = 'MW'\n",
    "#     config = configparser.ConfigParser()\n",
    "#     config.read('../../GalactISM/config_prfm-check.ini')\n",
    "\n",
    "#     prfm_array = min(glob.glob(str(Path(config[tag]['ROOT_DIR']) / Path(config[tag]['SUBDIR'])) + '/prfm_*.pkl'))\n",
    "\n",
    "#     with open(prfm_array, \"rb\") as f:\n",
    "#         prfm_dict = pickle.load(f)\n",
    "#         star_surfdens = np.ravel(prfm_dict['star_surfdens'])\n",
    "#         Omega = np.ravel(prfm_dict['Omega'])\n",
    "\n",
    "#     # dynamical time, probably out by some kB factor in internal units\n",
    "#     Sigmagas *= 1.e9 * ah.Msol_to_g / (ah.kpc_to_cm)**2\n",
    "#     Utherm = (temps * ah.kB_cgs) / (ah.gamma - 1.0)\n",
    "#     Sigma_gs = Sigmagas + star_surfdens\n",
    "#     PDE = (ah.gamma - 1.0) * Utherm # initialize\n",
    "#     sigmaEff = 12. * ah.kms_to_cms # initialize\n",
    "#     i = 0\n",
    "#     while i < 5:\n",
    "#         print(np.nanmedian(PDE/ah.kB_cgs), np.nanmedian(sigmaEff/1.e5))\n",
    "#         PDE = Sigmagas / 4. * (np.pi * ah.G_cgs * Sigma_gs + ((np.pi * ah.G_cgs)**2 * Sigma_gs**2 + 8./3. * Omega**2 * sigmaEff**2)**0.5)\n",
    "#         sigmaEff = 12. * ah.kms_to_cms * (PDE / (1.e4 * ah.kB_cgs))**(0.22)\n",
    "#         i += 1\n",
    "\n",
    "#     tau_dyn = Sigmagas * sigmaEff / PDE / ah.Gyr_to_s\n",
    "#     tau_dyns_SH03.append(tau_dyn)"
   ]
  },
  {
   "cell_type": "code",
   "execution_count": 9,
   "metadata": {},
   "outputs": [],
   "source": [
    "# # scatter against each other\n",
    "# tau_deps, tau_dyns, SFRs = tau_deps_SH03[0], tau_dyns_SH03[0], SFRs_SH03[0]\n",
    "# frac_SFR, _, _, _ = binned_statistic_2d(\n",
    "#     np.log10(tau_dyns), np.log10(tau_deps),\n",
    "#     SFRs, statistic='sum',\n",
    "#     bins=(np.linspace(-4., 0., 50), np.linspace(-3., 2., 50))\n",
    "# )\n",
    "# frac_SFR /= np.sum(frac_SFR)\n",
    "# plt.imshow(frac_SFR.T, origin='lower',\n",
    "#                  extent=(-4., 0., -3., 2.), aspect='auto',\n",
    "#                  cmap=plt.cm.bone_r, norm=LogNorm(vmin=1.e-5, vmax=1.e-1))\n",
    "# plt.show()"
   ]
  },
  {
   "cell_type": "markdown",
   "metadata": {},
   "source": [
    "## high-resolution galaxies"
   ]
  },
  {
   "cell_type": "code",
   "execution_count": 10,
   "metadata": {},
   "outputs": [],
   "source": [
    "tags = ['ETG-vlM', 'ETG-lowM', 'ETG-medM', 'ETG-hiM', 'MW']"
   ]
  },
  {
   "cell_type": "code",
   "execution_count": 13,
   "metadata": {},
   "outputs": [
    {
     "name": "stdout",
     "output_type": "stream",
     "text": [
      "ETG-vlM\n"
     ]
    },
    {
     "name": "stderr",
     "output_type": "stream",
     "text": [
      "/tmp/ipykernel_3987401/3416167521.py:23: RuntimeWarning: divide by zero encountered in divide\n",
      "  tau_dep = allgas_dict['gas_surfdens'] / allgas_dict['SFR_surfdens']\n",
      "/tmp/ipykernel_3987401/3416167521.py:23: RuntimeWarning: invalid value encountered in divide\n",
      "  tau_dep = allgas_dict['gas_surfdens'] / allgas_dict['SFR_surfdens']\n"
     ]
    },
    {
     "name": "stdout",
     "output_type": "stream",
     "text": [
      "ETG-lowM\n",
      "ETG-medM\n",
      "ETG-hiM\n",
      "MW\n"
     ]
    }
   ],
   "source": [
    "tau_deps_hr, tau_dyns_hr, Sigma_SFRs_hr = [], [], []\n",
    "for tag in tags:\n",
    "    print(tag)\n",
    "    config = configparser.ConfigParser()\n",
    "    config.read('../../GalactISM/config_Forces.ini')\n",
    "\n",
    "    allgas_arrays = glob.glob(str(Path(config[tag]['ROOT_DIR']) / Path(config[tag]['SUBDIR'])) + '/allgas_*.pkl')\n",
    "    allgas_nos = [arr.rsplit('_' + tag)[0].rsplit('allgas_')[1] for arr in allgas_arrays]\n",
    "    allgas_arrays = [arr for _, arr in sorted(zip(allgas_nos, allgas_arrays))]\n",
    "\n",
    "    coolgas_arrays = glob.glob(str(Path(config[tag]['ROOT_DIR']) / Path(config[tag]['SUBDIR'])) + \"/coolgas_*T2.0e+04_avir2.0e+00.pkl\")\n",
    "    coolgas_nos = [arr.rsplit('_' + tag)[0].rsplit('coolgas_')[1] for arr in coolgas_arrays]\n",
    "    coolgas_arrays = [arr for _, arr in sorted(zip(coolgas_nos, coolgas_arrays))]\n",
    "\n",
    "    tau_deps_hr_, tau_dyns_hr_, Sigma_SFRs_hr_ = [], [], []\n",
    "    for allgas_array, coolgas_array in zip(allgas_arrays, coolgas_arrays):\n",
    "        with open(allgas_array, \"rb\") as f:\n",
    "            allgas_dict = pickle.load(f)\n",
    "        with open(coolgas_array, \"rb\") as f:\n",
    "            coolgas_dict = pickle.load(f)\n",
    "\n",
    "        # depletion times\n",
    "        tau_dep = allgas_dict['gas_surfdens'] / allgas_dict['SFR_surfdens']\n",
    "        Sigma_SFR = allgas_dict['SFR_surfdens']\n",
    "        cnd = (tau_dep > 0) & ~np.isinf(tau_dep)\n",
    "        tau_deps_hr_.extend(tau_dep[cnd])\n",
    "        Sigma_SFRs_hr_.extend(Sigma_SFR[cnd])\n",
    "\n",
    "        # dynamical times\n",
    "        tau_dyn = allgas_dict['gas_surfdens'] * coolgas_dict['veldisp_midplane'] / (coolgas_dict['Pturb'] + coolgas_dict['Ptherm'])\n",
    "        tau_dyns_hr_.extend(tau_dyn[cnd])\n",
    "\n",
    "    tau_deps_hr.append(np.array(tau_deps_hr_))\n",
    "    tau_dyns_hr.append(np.array(tau_dyns_hr_))\n",
    "    Sigma_SFRs_hr.append(np.array(Sigma_SFRs_hr_))\n"
   ]
  },
  {
   "cell_type": "markdown",
   "metadata": {},
   "source": [
    "# figure"
   ]
  },
  {
   "cell_type": "code",
   "execution_count": 15,
   "metadata": {},
   "outputs": [
    {
     "name": "stderr",
     "output_type": "stream",
     "text": [
      "/tmp/ipykernel_3987401/779316364.py:9: RuntimeWarning: invalid value encountered in log10\n",
      "  np.log10(tau_dyns), np.log10(tau_deps),\n",
      "/tmp/ipykernel_3987401/779316364.py:24: RuntimeWarning: invalid value encountered in log10\n",
      "  np.log10(tau_dyns), np.log10(tau_deps),\n"
     ]
    },
    {
     "data": {
      "image/png": "[encoded data removed]",
      "text/plain": [
       "<Figure size 1400x1700 with 20 Axes>"
      ]
     },
     "metadata": {},
     "output_type": "display_data"
    }
   ],
   "source": [
    "# 2D histogram of tau_dyn (x-axis) vs. tau_dep (y-axis) for PRFM and control (SH03) case,\n",
    "# on two separate axes\n",
    "fig, ax = plt.subplots(5, 4, figsize=(14, 17))\n",
    "\n",
    "# PRFM unresolved\n",
    "for i in range(5):\n",
    "    tau_deps, tau_dyns, SFRs = tau_deps_PRFM[i], tau_dyns_PRFM[i], SFRs_PRFM[i]\n",
    "    frac_SFR, _, _, _ = binned_statistic_2d(\n",
    "        np.log10(tau_dyns), np.log10(tau_deps),\n",
    "        SFRs, statistic='sum',\n",
    "        bins=(np.linspace(-4., 0., 50), np.linspace(-3., 2., 50))\n",
    "    )\n",
    "    frac_SFR /= np.sum(frac_SFR)\n",
    "    frac_SFR /= np.sum(frac_SFR)\n",
    "    ax[i,0].imshow(frac_SFR.T, origin='lower',\n",
    "                    extent=(-4., 0., -3., 2.), aspect='auto',\n",
    "                    cmap=plt.cm.bone_r, norm=LogNorm(vmin=1.e-4, vmax=1.e-1))\n",
    "ax[0,0].set_title('PRFM unresolved', pad=10, fontsize=20)\n",
    "\n",
    "# PRFM resolved\n",
    "for i in range(5):\n",
    "    tau_deps, tau_dyns, SFRs = tau_deps_PRFM_r[i], tau_dyns_PRFM_r[i], SFRs_PRFM_r[i]\n",
    "    frac_SFR, _, _, _ = binned_statistic_2d(\n",
    "        np.log10(tau_dyns), np.log10(tau_deps),\n",
    "        SFRs, statistic='sum',\n",
    "        bins=(np.linspace(-4., 0., 50), np.linspace(-3., 2., 50))\n",
    "    )\n",
    "    frac_SFR /= np.sum(frac_SFR)\n",
    "    frac_SFR /= np.sum(frac_SFR)\n",
    "    ax[i,1].imshow(frac_SFR.T, origin='lower',\n",
    "                    extent=(-4., 0., -3., 2.), aspect='auto',\n",
    "                    cmap=plt.cm.bone_r, norm=LogNorm(vmin=1.e-4, vmax=1.e-1))\n",
    "ax[0,1].set_title('PRFM resolved', pad=10, fontsize=20)\n",
    "\n",
    "# # SH03\n",
    "# for i in range(5):\n",
    "#     tau_deps, tau_dyns, SFRs = tau_deps_SH03[i], tau_dyns_SH03[i], SFRs_SH03[i]\n",
    "#     frac_SFR, _, _, _ = binned_statistic_2d(\n",
    "#         np.log10(tau_dyns), np.log10(tau_deps),\n",
    "#         SFRs, statistic='sum',\n",
    "#         bins=(np.linspace(-4., 0., 50), np.linspace(-3., 2., 50))\n",
    "#     )\n",
    "#     frac_SFR /= np.sum(frac_SFR)\n",
    "#     frac_SFR /= np.sum(frac_SFR)\n",
    "#     ax[i,2].imshow(frac_SFR.T, origin='lower',\n",
    "#                     extent=(-4., 0., -3., 2.), aspect='auto',\n",
    "#                     cmap=plt.cm.bone_r, norm=LogNorm(vmin=1.e-4, vmax=1.e-1))\n",
    "# ax[0,2].set_title('SH03', pad=10, fontsize=20)\n",
    "\n",
    "# high-resolution\n",
    "for i in range(5):\n",
    "    tau_deps, tau_dyns, SFRs = tau_deps_hr[i], tau_dyns_hr[i], Sigma_SFRs_hr[i]\n",
    "    # bin the tau_dep in terms of the tau_dyn, weighted by SFR\n",
    "    # use binned_statistic\n",
    "    tau_dep_1d, bins = binned_statistic(\n",
    "        np.log10(tau_dyns/ah.kB_cgs/ah.Gyr_to_s), np.log10(tau_deps/ah.Gyr_to_s),\n",
    "        statistic=np.nanmean, bins=10)\n",
    "\n",
    "    frac_SFR, _, _, _ = binned_statistic_2d(\n",
    "        np.log10(tau_dyns/ah.kB_cgs/ah.Gyr_to_s), np.log10(tau_deps/ah.Gyr_to_s),\n",
    "        SFRs, statistic='sum',\n",
    "        bins=(np.linspace(-4., 0., 50), np.linspace(-3., 2., 50))\n",
    "    )\n",
    "    frac_SFR /= np.sum(frac_SFR)\n",
    "    frac_SFR /= np.sum(frac_SFR)\n",
    "    ax[i,3].imshow(frac_SFR.T, origin='lower',\n",
    "                    extent=(-4., 0., -3., 2.), aspect='auto',\n",
    "                    cmap=plt.cm.bone_r, norm=LogNorm())\n",
    "ax[0,3].set_title(r'$M_{\\rm cell} \\sim 900~{\\rm M}_\\odot$', pad=10, fontsize=20)\n",
    "\n",
    "# remove y-labels\n",
    "for i in range(1, 4):\n",
    "    for j in range(5):\n",
    "        ax[j,i].set_yticklabels([])\n",
    "# remove x-labels\n",
    "for i in range(4):\n",
    "    for j in range(4):\n",
    "        ax[j,i].set_xticklabels([])\n",
    "\n",
    "plt.subplots_adjust(hspace=0.1, wspace=0.1)\n",
    "plt.show()"
   ]
  },
  {
   "cell_type": "code",
   "execution_count": null,
   "metadata": {},
   "outputs": [],
   "source": []
  },
  {
   "cell_type": "code",
   "execution_count": null,
   "metadata": {},
   "outputs": [],
   "source": []
  },
  {
   "cell_type": "code",
   "execution_count": null,
   "metadata": {},
   "outputs": [],
   "source": []
  }
 ],
 "metadata": {
  "kernelspec": {
   "display_name": "Python 3 (ipykernel)",
   "language": "python",
   "name": "python3"
  },
  "language_info": {
   "codemirror_mode": {
    "name": "ipython",
    "version": 3
   },
   "file_extension": ".py",
   "mimetype": "text/x-python",
   "name": "python",
   "nbconvert_exporter": "python",
   "pygments_lexer": "ipython3",
   "version": "3.8.18"
  }
 },
 "nbformat": 4,
 "nbformat_minor": 4
}

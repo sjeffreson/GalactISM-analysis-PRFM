{
 "cells": [
  {
   "cell_type": "code",
   "execution_count": 1,
   "metadata": {},
   "outputs": [],
   "source": [
    "import numpy as np\n",
    "import h5py\n",
    "import glob, os, re, sys\n",
    "import pickle\n",
    "from scipy.stats import binned_statistic_2d\n",
    "\n",
    "import sys, glob, re\n",
    "\n",
    "sys.path.append('../')\n",
    "import astro_helper as ah\n",
    "from GriddedData import GriddedDataset\n",
    "\n",
    "%matplotlib inline\n",
    "import matplotlib as mpl\n",
    "import matplotlib.pyplot as plt\n",
    "from matplotlib import cm\n",
    "import matplotlib.patches as patches\n",
    "from matplotlib import rc\n",
    "from matplotlib.ticker import LogLocator\n",
    "from matplotlib.lines import Line2D\n",
    "from matplotlib.colors import LogNorm\n",
    "rc('axes', linewidth=1.5)\n",
    "rc('axes', edgecolor='#3C3C3C')\n",
    "plt.style.use('mpl_style_Jeffreson.mplstyle')"
   ]
  },
  {
   "cell_type": "markdown",
   "metadata": {},
   "source": [
    "# Load the data"
   ]
  },
  {
   "cell_type": "code",
   "execution_count": 14,
   "metadata": {},
   "outputs": [
    {
     "name": "stdout",
     "output_type": "stream",
     "text": [
      "dict_keys(['rotcurve', 'kappa', 'SFR_surfdens', 'H2_frac', 'HI_frac', 'gas_surfdens', 'gas_taudep', 'star_surfdens', 'gas_voldens_midplane', 'star_voldens_midplane'])\n",
      "[(50, 50, 25), (50, 50, 25), (50, 50, 25), (50, 50, 25), (50, 50, 25), (50, 50, 25), (50, 50, 25), (50, 50, 25), (50, 50, 25), (50, 50, 25)]\n"
     ]
    }
   ],
   "source": [
    "folder = \"/n/holystore01/LABS/itc_lab/Users/sjeffreson/ETGs/vlM-output/\"\n",
    "with open(folder+\"allgas_124_ETG-vlM.pkl\", \"rb\") as f:\n",
    "    allgas_dict = pickle.load(f)\n",
    "print(allgas_dict.keys())\n",
    "print([val.shape for key, val in allgas_dict.items()])"
   ]
  },
  {
   "cell_type": "code",
   "execution_count": 15,
   "metadata": {},
   "outputs": [
    {
     "name": "stderr",
     "output_type": "stream",
     "text": [
      "/tmp/ipykernel_3832799/2313005448.py:1: RuntimeWarning: divide by zero encountered in divide\n",
      "  tau_dep = allgas_dict['gas_surfdens'] / allgas_dict['SFR_surfdens']\n",
      "/tmp/ipykernel_3832799/2313005448.py:1: RuntimeWarning: invalid value encountered in divide\n",
      "  tau_dep = allgas_dict['gas_surfdens'] / allgas_dict['SFR_surfdens']\n"
     ]
    }
   ],
   "source": [
    "tau_dep = allgas_dict['gas_surfdens'] / allgas_dict['SFR_surfdens']\n",
    "Sigma_SFR = allgas_dict['SFR_surfdens']\n",
    "cnd = (tau_dep > 0) & ~np.isinf(tau_dep)\n",
    "tau_dep = tau_dep[cnd]\n",
    "Sigma_SFR = Sigma_SFR[cnd]"
   ]
  },
  {
   "cell_type": "code",
   "execution_count": 16,
   "metadata": {},
   "outputs": [
    {
     "name": "stdout",
     "output_type": "stream",
     "text": [
      "dict_keys(['gas_surfdens', 'gas_voldens_midplane', 'star_voldens_midplane', 'veldisp_midplane', 'Pturb', 'Ptherm'])\n",
      "[(50, 50, 25), (50, 50, 25), (50, 50, 25), (50, 50, 25), (50, 50, 25), (50, 50, 25)]\n"
     ]
    }
   ],
   "source": [
    "folder = \"/n/holystore01/LABS/itc_lab/Users/sjeffreson/ETGs/vlM-output/\"\n",
    "with open(folder+\"coolgas_124_ETG-vlM_T2.0e+04_avir2.0e+00.pkl\", \"rb\") as f:\n",
    "    coolgas_dict = pickle.load(f)\n",
    "print(coolgas_dict.keys())\n",
    "print([val.shape for key, val in coolgas_dict.items()])"
   ]
  },
  {
   "cell_type": "code",
   "execution_count": 17,
   "metadata": {},
   "outputs": [],
   "source": [
    "tau_dyn = coolgas_dict['gas_surfdens'] * coolgas_dict['veldisp_midplane'] / (coolgas_dict['Pturb'] + coolgas_dict['Ptherm'])\n",
    "tau_dyn = tau_dyn[cnd]"
   ]
  },
  {
   "cell_type": "code",
   "execution_count": 18,
   "metadata": {},
   "outputs": [
    {
     "data": {
      "image/png": "[encoded data removed]",
      "text/plain": [
       "<Figure size 640x480 with 1 Axes>"
      ]
     },
     "metadata": {},
     "output_type": "display_data"
    }
   ],
   "source": [
    "plt.hist(np.log10(np.ravel(tau_dep)/ah.Gyr_to_s), bins=np.linspace(-5., 5., 30),\n",
    "         log=True, lw=2, histtype='step', weights=Sigma_SFR)\n",
    "plt.hist(np.log10(np.ravel(tau_dyn)/ah.kB_cgs/ah.Gyr_to_s), bins=np.linspace(-5., 5., 30),\n",
    "         log=True, lw=2, histtype='step', weights=Sigma_SFR)\n",
    "plt.show()"
   ]
  },
  {
   "cell_type": "code",
   "execution_count": 19,
   "metadata": {},
   "outputs": [
    {
     "data": {
      "image/png": "[encoded data removed]",
      "text/plain": [
       "<Figure size 600x400 with 1 Axes>"
      ]
     },
     "metadata": {},
     "output_type": "display_data"
    }
   ],
   "source": [
    "# 2D histogram of tau_dyn (x-axis) vs. tau_dep (y-axis) for PRFM and control (SH03) case,\n",
    "# on two separate axes\n",
    "fig, ax = plt.subplots(1, 1, figsize=(6,4))\n",
    "\n",
    "# hist2D with log scale on 3rd axis\n",
    "frac_SFR, _, _, _ = binned_statistic_2d(\n",
    "    np.log10(tau_dyn/ah.kB_cgs/ah.Gyr_to_s), np.log10(tau_dep/ah.Gyr_to_s),\n",
    "    Sigma_SFR, statistic='sum',\n",
    "    bins=(np.linspace(-4., 0., 30), np.linspace(-3., 2., 30))\n",
    ")\n",
    "frac_SFR /= np.sum(frac_SFR)\n",
    "ax.imshow(frac_SFR.T, origin='lower',\n",
    "             extent=(-4., 0., -3., 2.), aspect='auto',\n",
    "             cmap=plt.cm.bone_r, norm=LogNorm(vmin=1.e-5, vmax=1.e-1))\n",
    "ax.set_xlabel(r'$\\log_{10}{(t_{\\rm dyn}/{\\rm Gyr})}$')\n",
    "ax.set_ylabel(r'$\\log_{10}{(t_{\\rm dep}/{\\rm Gyr})}$')\n",
    "ax.set_title('PRFM-unresolved', pad=20, fontsize=20)\n",
    "\n",
    "plt.show()"
   ]
  },
  {
   "cell_type": "code",
   "execution_count": null,
   "metadata": {},
   "outputs": [],
   "source": []
  },
  {
   "cell_type": "code",
   "execution_count": null,
   "metadata": {},
   "outputs": [],
   "source": []
  },
  {
   "cell_type": "code",
   "execution_count": null,
   "metadata": {},
   "outputs": [],
   "source": []
  }
 ],
 "metadata": {
  "kernelspec": {
   "display_name": "Python 3 (ipykernel)",
   "language": "python",
   "name": "python3"
  },
  "language_info": {
   "codemirror_mode": {
    "name": "ipython",
    "version": 3
   },
   "file_extension": ".py",
   "mimetype": "text/x-python",
   "name": "python",
   "nbconvert_exporter": "python",
   "pygments_lexer": "ipython3",
   "version": "3.8.18"
  }
 },
 "nbformat": 4,
 "nbformat_minor": 4
}

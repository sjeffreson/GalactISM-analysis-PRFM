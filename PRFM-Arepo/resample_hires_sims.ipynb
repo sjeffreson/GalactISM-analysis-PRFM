{
 "cells": [
  {
   "cell_type": "markdown",
   "metadata": {},
   "source": [
    "# Figure comparing weights, pressures and star formation rate surface densities for Figure 13 in Jeffreson et al. 2024b"
   ]
  },
  {
   "cell_type": "code",
   "execution_count": 1,
   "metadata": {},
   "outputs": [],
   "source": [
    "import numpy as np\n",
    "import h5py\n",
    "from scipy.stats import binned_statistic_2d\n",
    "\n",
    "import sys, glob, re\n",
    "\n",
    "sys.path.append('../')\n",
    "import astro_helper as ah\n",
    "\n",
    "%matplotlib inline\n",
    "import matplotlib as mpl\n",
    "import matplotlib.pyplot as plt\n",
    "from matplotlib import cm\n",
    "import matplotlib.patches as patches\n",
    "from matplotlib import rc\n",
    "from matplotlib.ticker import LogLocator\n",
    "from matplotlib.lines import Line2D\n",
    "from matplotlib.colors import LogNorm\n",
    "rc('axes', linewidth=1.5)\n",
    "rc('axes', edgecolor='#3C3C3C')\n",
    "plt.style.use('mpl_style_Jeffreson.mplstyle')"
   ]
  },
  {
   "cell_type": "markdown",
   "metadata": {},
   "source": [
    "# Load the data"
   ]
  },
  {
   "cell_type": "code",
   "execution_count": 5,
   "metadata": {},
   "outputs": [],
   "source": [
    "# high-res files\n",
    "file = '/n/holystore01/LABS/loeb_lab/Users/sjeffreson/MW-tracers/snap-DESPOTIC_400.hdf5'"
   ]
  },
  {
   "cell_type": "markdown",
   "metadata": {},
   "source": [
    "# rebin onto 80pc 3D grid"
   ]
  },
  {
   "cell_type": "code",
   "execution_count": 135,
   "metadata": {},
   "outputs": [],
   "source": [
    "def collect_tau_deps(file, width_kpc=30., height_kpc=0.5, scale_kpc=0.08):\n",
    "    x_bins = np.linspace(-width_kpc/2., width_kpc/2., int(width_kpc/scale_kpc)+1) * ah.kpc_to_cm\n",
    "    y_bins = np.linspace(-width_kpc/2., width_kpc/2., int(width_kpc/scale_kpc)+1) * ah.kpc_to_cm\n",
    "    z_bins = np.linspace(-height_kpc/2., height_kpc/2., 2) * ah.kpc_to_cm\n",
    "\n",
    "    f = h5py.File(file, \"r\")\n",
    "    SFR = f['PartType0']['StarFormationRate'][:] * f['PartType0']['StarFormationRate'].attrs['to_cgs']\n",
    "    mass = f['PartType0']['Masses'][:] * f['PartType0']['Masses'].attrs['to_cgs']\n",
    "    x = (f['PartType0']['Coordinates'][:,0] - 0.5 * f['Header'].attrs['BoxSize']) * f['PartType0']['Coordinates'].attrs['to_cgs']\n",
    "    y = (f['PartType0']['Coordinates'][:,1] - 0.5 * f['Header'].attrs['BoxSize']) * f['PartType0']['Coordinates'].attrs['to_cgs']\n",
    "    R = np.sqrt(x**2 + y**2)\n",
    "    z = (f['PartType0']['Coordinates'][:,2] - 0.5 * f['Header'].attrs['BoxSize']) * f['PartType0']['Coordinates'].attrs['to_cgs']\n",
    "\n",
    "    # divide into z-slices\n",
    "    SFRs = np.zeros((len(z_bins)-1, len(x_bins)-1, len(y_bins)-1))\n",
    "    masses = np.zeros((len(z_bins)-1, len(x_bins)-1, len(y_bins)-1))\n",
    "    for i in range(len(z_bins)-1):\n",
    "        cnd = (z >= z_bins[i]) & (z < z_bins[i+1]) & (R < width_kpc/2. * ah.kpc_to_cm)\n",
    "        SFRs[i], x_edges, y_edges, _ = binned_statistic_2d(\n",
    "            x[cnd], y[cnd],\n",
    "            SFR[cnd]/ah.Msol_to_g,\n",
    "            bins=(x_bins, y_bins),\n",
    "            statistic='sum'\n",
    "        )\n",
    "        masses[i], x_edges, y_edges, _ = binned_statistic_2d(\n",
    "            x[cnd], y[cnd],\n",
    "            mass[cnd]/ah.Msol_to_g,\n",
    "            bins=(x_bins, y_bins),\n",
    "            statistic='sum'\n",
    "        )\n",
    "\n",
    "    tau_deps = masses/SFRs\n",
    "    tau_deps[tau_deps == np.inf] = np.nan\n",
    "    return tau_deps, SFRs"
   ]
  },
  {
   "cell_type": "code",
   "execution_count": 150,
   "metadata": {},
   "outputs": [
    {
     "name": "stderr",
     "output_type": "stream",
     "text": [
      "/tmp/ipykernel_720872/2277582660.py:32: RuntimeWarning: divide by zero encountered in divide\n",
      "  tau_deps = masses/SFRs\n",
      "/tmp/ipykernel_720872/2277582660.py:32: RuntimeWarning: invalid value encountered in divide\n",
      "  tau_deps = masses/SFRs\n"
     ]
    }
   ],
   "source": [
    "tau_deps, SFRs = collect_tau_deps(file, scale_kpc=0.75, height_kpc=0.2)"
   ]
  },
  {
   "cell_type": "code",
   "execution_count": 151,
   "metadata": {},
   "outputs": [
    {
     "data": {
      "image/png": "[encoded data removed]",
      "text/plain": [
       "<Figure size 640x480 with 1 Axes>"
      ]
     },
     "metadata": {},
     "output_type": "display_data"
    }
   ],
   "source": [
    "plt.hist(np.log10(tau_deps[~np.isnan(tau_deps)].flatten()/ah.Gyr_to_s), bins=100, histtype='step', color='k', lw=2)\n",
    "plt.yscale('log')\n",
    "plt.show()"
   ]
  },
  {
   "cell_type": "code",
   "execution_count": 152,
   "metadata": {},
   "outputs": [],
   "source": [
    "def collect_tau_dyns(file, width_kpc=30., height_kpc=0.5, scale_kpc=0.08):\n",
    "    x_bins = np.linspace(-width_kpc/2., width_kpc/2., int(width_kpc/scale_kpc)+1) * ah.kpc_to_cm\n",
    "    y_bins = np.linspace(-width_kpc/2., width_kpc/2., int(width_kpc/scale_kpc)+1) * ah.kpc_to_cm\n",
    "    z_bins = np.linspace(-height_kpc/2., height_kpc/2., 2) * ah.kpc_to_cm\n",
    "\n",
    "    f = h5py.File(file, \"r\")\n",
    "    x = ((f['PartType0']['Coordinates'][:,0] - 0.5 * f['Header'].attrs['BoxSize']) * f['PartType0']['Coordinates'].attrs['to_cgs'])\n",
    "    y = ((f['PartType0']['Coordinates'][:,1] - 0.5 * f['Header'].attrs['BoxSize']) * f['PartType0']['Coordinates'].attrs['to_cgs'])\n",
    "    R = np.sqrt(x**2 + y**2)\n",
    "    z = ((f['PartType0']['Coordinates'][:,2] - 0.5 * f['Header'].attrs['BoxSize']) * f['PartType0']['Coordinates'].attrs['to_cgs'])\n",
    "    x_s = np.concatenate((\n",
    "        f['PartType2']['Coordinates'][:,0] - 0.5 * f['Header'].attrs['BoxSize'],\n",
    "        f['PartType3']['Coordinates'][:,0] - 0.5 * f['Header'].attrs['BoxSize']\n",
    "    )) * f['PartType2']['Coordinates'].attrs['to_cgs']\n",
    "    y_s = np.concatenate((\n",
    "        f['PartType2']['Coordinates'][:,1] - 0.5 * f['Header'].attrs['BoxSize'],\n",
    "        f['PartType3']['Coordinates'][:,1] - 0.5 * f['Header'].attrs['BoxSize']\n",
    "    )) * f['PartType2']['Coordinates'].attrs['to_cgs']\n",
    "    vx = f['PartType0']['Velocities'][:,0] * f['PartType0']['Velocities'].attrs['to_cgs']\n",
    "    vy = f['PartType0']['Velocities'][:,1] * f['PartType0']['Velocities'].attrs['to_cgs']\n",
    "    vz = f['PartType0']['Velocities'][:,2] * f['PartType0']['Velocities'].attrs['to_cgs']\n",
    "    vtheta = -y*vx + x*vy\n",
    "    Omega = vtheta / (x**2 + y**2)\n",
    "    mass = f['PartType0']['Masses'][:] * f['PartType0']['Masses'].attrs['to_cgs']\n",
    "    mass_s = np.concatenate((\n",
    "        f['PartType2']['Masses'][:] * f['PartType2']['Masses'].attrs['to_cgs'],\n",
    "        f['PartType3']['Masses'][:] * f['PartType3']['Masses'].attrs['to_cgs']\n",
    "    ))\n",
    "\n",
    "    # divide into z-slices\n",
    "    sigmaEffs = np.zeros((len(z_bins)-1, len(x_bins)-1, len(y_bins)-1))\n",
    "    Omegas = np.zeros((len(z_bins)-1, len(x_bins)-1, len(y_bins)-1))\n",
    "    surfdenses = np.zeros((len(z_bins)-1, len(x_bins)-1, len(y_bins)-1))\n",
    "    surfdenses_s = np.zeros((len(z_bins)-1, len(x_bins)-1, len(y_bins)-1))\n",
    "    for i in range(len(z_bins)-1):\n",
    "        cnd = (z >= z_bins[i]) & (z < z_bins[i+1]) & (R < width_kpc/2. * ah.kpc_to_cm)\n",
    "        vzmean, x_edges, y_edges, binnumber = binned_statistic_2d(\n",
    "            x[cnd], y[cnd],\n",
    "            vz[cnd],\n",
    "            bins=(x_bins, y_bins),\n",
    "            statistic='mean',\n",
    "            expand_binnumbers=True\n",
    "        )\n",
    "        vz_minus_mean = vz[cnd] - vzmean[binnumber[0]-1, binnumber[1]-1]\n",
    "        sigmaEffs[i], x_edges, y_edges, _ = binned_statistic_2d(\n",
    "            x[cnd], y[cnd],\n",
    "            vz_minus_mean**2,\n",
    "            bins=(x_bins, y_bins),\n",
    "            statistic='mean'\n",
    "        )\n",
    "        sigmaEffs[i] = sigmaEffs[i]**0.5\n",
    "\n",
    "        Omegas[i], x_edges, y_edges, _ = binned_statistic_2d(\n",
    "            x[cnd], y[cnd],\n",
    "            Omega[cnd],\n",
    "            bins=(x_bins, y_bins),\n",
    "            statistic='mean'\n",
    "        )\n",
    "        surfdenses[i], x_edges, y_edges, _ = binned_statistic_2d(\n",
    "            x, y,\n",
    "            mass,\n",
    "            bins=(x_bins, y_bins),\n",
    "            statistic='sum'\n",
    "        )\n",
    "        surfdenses[i] = surfdenses[i] / (scale_kpc * ah.kpc_to_cm)**2\n",
    "        surfdenses_s[i], x_edges, y_edges, _ = binned_statistic_2d(\n",
    "            x_s, y_s,\n",
    "            mass_s,\n",
    "            bins=(x_bins, y_bins),\n",
    "            statistic='sum'\n",
    "        )\n",
    "        surfdenses_s[i] = surfdenses_s[i] / (scale_kpc * ah.kpc_to_cm)**2\n",
    "\n",
    "    # Using Equation (22) from old version of Sultan's paper, i.e. same equilibrium assumptions\n",
    "    # as PRFM to compute the dynamical time\n",
    "    tau_dyn = 4.*sigmaEffs / (\n",
    "        np.pi * ah.G_cgs * (surfdenses + surfdenses_s) + ((np.pi * ah.G_cgs)**2 * (surfdenses + surfdenses_s)**2 + 8./3. * Omegas**2 * sigmaEffs**2)**0.5\n",
    "    )\n",
    "    tau_dyn[tau_dyn == np.inf] = np.nan\n",
    "    tau_dyn[tau_dyn == 0] = np.nan\n",
    "    return tau_dyn"
   ]
  },
  {
   "cell_type": "code",
   "execution_count": 153,
   "metadata": {},
   "outputs": [],
   "source": [
    "tau_dyns = collect_tau_dyns(file, scale_kpc=0.75, height_kpc=0.2)"
   ]
  },
  {
   "cell_type": "code",
   "execution_count": 154,
   "metadata": {},
   "outputs": [
    {
     "data": {
      "image/png": "[encoded data removed]",
      "text/plain": [
       "<Figure size 640x480 with 1 Axes>"
      ]
     },
     "metadata": {},
     "output_type": "display_data"
    }
   ],
   "source": [
    "plt.hist(np.log10(tau_dyns[~np.isnan(tau_dyns)].flatten()/ah.Gyr_to_s), bins=100, histtype='step', color='k', lw=2)\n",
    "plt.yscale('log')\n",
    "plt.show()"
   ]
  },
  {
   "cell_type": "markdown",
   "metadata": {},
   "source": [
    "# figure"
   ]
  },
  {
   "cell_type": "code",
   "execution_count": 156,
   "metadata": {},
   "outputs": [
    {
     "data": {
      "image/png": "[encoded data removed]",
      "text/plain": [
       "<Figure size 600x400 with 1 Axes>"
      ]
     },
     "metadata": {},
     "output_type": "display_data"
    }
   ],
   "source": [
    "# 2D histogram of tau_dyn (x-axis) vs. tau_dep (y-axis) for PRFM and control (SH03) case,\n",
    "# on two separate axes\n",
    "fig, ax = plt.subplots(1, 1, figsize=(6,4))\n",
    "\n",
    "# hist2D with log scale on 3rd axis\n",
    "frac_SFR, _, _, _ = binned_statistic_2d(\n",
    "    np.log10(np.ravel(tau_dyns)/ah.Gyr_to_s), np.log10(np.ravel(tau_deps)/ah.Gyr_to_s),\n",
    "    np.ravel(SFRs), statistic='sum',\n",
    "    bins=(np.linspace(-4., 0., 40), np.linspace(-3., 2., 40))\n",
    ")\n",
    "frac_SFR /= np.sum(frac_SFR)\n",
    "ax.imshow(frac_SFR.T, origin='lower',\n",
    "             extent=(-4., 0., -3., 2.), aspect='auto',\n",
    "             cmap=plt.cm.bone_r, norm=LogNorm(vmin=1.e-5, vmax=1.e-1))\n",
    "ax.set_xlabel(r'$\\log_{10}{(t_{\\rm dyn}/{\\rm Gyr})}$')\n",
    "ax.set_ylabel(r'$\\log_{10}{(t_{\\rm dep}/{\\rm Gyr})}$')\n",
    "ax.set_title('PRFM-unresolved', pad=20, fontsize=20)\n",
    "\n",
    "plt.show()"
   ]
  },
  {
   "cell_type": "code",
   "execution_count": null,
   "metadata": {},
   "outputs": [],
   "source": []
  },
  {
   "cell_type": "code",
   "execution_count": null,
   "metadata": {},
   "outputs": [],
   "source": []
  },
  {
   "cell_type": "code",
   "execution_count": null,
   "metadata": {},
   "outputs": [],
   "source": []
  }
 ],
 "metadata": {
  "kernelspec": {
   "display_name": "Python 3 (ipykernel)",
   "language": "python",
   "name": "python3"
  },
  "language_info": {
   "codemirror_mode": {
    "name": "ipython",
    "version": 3
   },
   "file_extension": ".py",
   "mimetype": "text/x-python",
   "name": "python",
   "nbconvert_exporter": "python",
   "pygments_lexer": "ipython3",
   "version": "3.8.18"
  }
 },
 "nbformat": 4,
 "nbformat_minor": 4
}

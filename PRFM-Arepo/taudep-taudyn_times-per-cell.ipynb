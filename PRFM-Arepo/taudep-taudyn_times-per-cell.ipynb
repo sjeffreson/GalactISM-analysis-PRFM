{
 "cells": [
  {
   "cell_type": "markdown",
   "metadata": {},
   "source": [
    "# Figure comparing weights, pressures and star formation rate surface densities for Figure 13 in Jeffreson et al. 2024b"
   ]
  },
  {
   "cell_type": "code",
   "execution_count": 1,
   "metadata": {},
   "outputs": [],
   "source": [
    "import numpy as np\n",
    "from scipy.stats import binned_statistic_2d\n",
    "\n",
    "import sys, glob, re\n",
    "\n",
    "sys.path.append('../')\n",
    "import astro_helper as ah\n",
    "import PRFM_helper as ph\n",
    "\n",
    "%matplotlib inline\n",
    "import matplotlib as mpl\n",
    "import matplotlib.pyplot as plt\n",
    "from matplotlib import cm\n",
    "import matplotlib.patches as patches\n",
    "from matplotlib import rc\n",
    "from matplotlib.ticker import LogLocator\n",
    "from matplotlib.lines import Line2D\n",
    "from matplotlib.colors import LogNorm\n",
    "rc('axes', linewidth=1.5)\n",
    "rc('axes', edgecolor='#3C3C3C')\n",
    "plt.style.use('mpl_style_Jeffreson.mplstyle')"
   ]
  },
  {
   "cell_type": "markdown",
   "metadata": {},
   "source": [
    "# Load the data"
   ]
  },
  {
   "cell_type": "code",
   "execution_count": 2,
   "metadata": {},
   "outputs": [],
   "source": [
    "titles = ['Milky Way-like', 'ETG, vlM', 'ETG, lowM', 'ETG, medM', 'ETG, hiM']"
   ]
  },
  {
   "cell_type": "markdown",
   "metadata": {},
   "source": [
    "## PRFM, unresolved"
   ]
  },
  {
   "cell_type": "code",
   "execution_count": 3,
   "metadata": {},
   "outputs": [],
   "source": [
    "# PRFM, unresolved files\n",
    "dirs_prfm = [\n",
    "    '/LtU/LOW-PRFM/',\n",
    "    '/LOW-ETGs/vlM-PRFM/',\n",
    "    '/LOW-ETGs/lowM-PRFM/',\n",
    "    '/LOW-ETGs/medM-PRFM/',\n",
    "    '/LOW-ETGs/hiM-PRFM/'\n",
    "]\n",
    "files_prfm = []\n",
    "for dir_prfm in dirs_prfm:\n",
    "    files = glob.glob('/n/holystore01/LABS/itc_lab/Users/sjeffreson/'+dir_prfm+'/output/snap_*.hdf5')\n",
    "    files = [x for _, x in sorted(zip([int(re.search(r'\\d+', x).group()) for x in files], files))]\n",
    "    files = files[5:]\n",
    "    files_prfm.append(files)"
   ]
  },
  {
   "cell_type": "code",
   "execution_count": 4,
   "metadata": {},
   "outputs": [
    {
     "name": "stdout",
     "output_type": "stream",
     "text": [
      "Milky Way-like\n",
      "ETG, vlM\n",
      "ETG, lowM\n",
      "ETG, medM\n",
      "ETG, hiM\n"
     ]
    }
   ],
   "source": [
    "tau_deps_prfm, SFRs_prfm = [], []\n",
    "for files, title in zip(files_prfm, titles):\n",
    "    print(title)\n",
    "    tau_deps, SFRs = ph.collect_tau_deps(files)\n",
    "    tau_deps_prfm.append(tau_deps)\n",
    "    SFRs_prfm.append(SFRs)"
   ]
  },
  {
   "cell_type": "code",
   "execution_count": 5,
   "metadata": {},
   "outputs": [
    {
     "name": "stdout",
     "output_type": "stream",
     "text": [
      "Milky Way-like\n",
      "ETG, vlM\n",
      "ETG, lowM\n",
      "ETG, medM\n",
      "ETG, hiM\n"
     ]
    }
   ],
   "source": [
    "tau_dyns_prfm = []\n",
    "for files, title in zip(files_prfm, titles):\n",
    "    print(title)\n",
    "    tau_dyns = ph.collect_tau_dyns_prfm(files)\n",
    "    tau_dyns_prfm.append(tau_dyns)"
   ]
  },
  {
   "cell_type": "markdown",
   "metadata": {},
   "source": [
    "## PRFM, resolved"
   ]
  },
  {
   "cell_type": "code",
   "execution_count": 6,
   "metadata": {},
   "outputs": [],
   "source": [
    "# PRFM, resolved files\n",
    "dirs_prfm_res = [\n",
    "    '/LtU/LOW-PRFM_RSLVD/',\n",
    "    '/LOW-ETGs/vlM-PRFM-res/',\n",
    "    '/LOW-ETGs/lowM-PRFM-res/',\n",
    "    '/LOW-ETGs/medM-PRFM-res/',\n",
    "    '/LOW-ETGs/hiM-PRFM-res/'\n",
    "]\n",
    "files_prfm_res = []\n",
    "for dir_prfm_res in dirs_prfm_res:\n",
    "    files = glob.glob('/n/holystore01/LABS/itc_lab/Users/sjeffreson/'+dir_prfm_res+'/output/snap_*.hdf5')\n",
    "    files = [x for _, x in sorted(zip([int(re.search(r'\\d+', x).group()) for x in files], files))]\n",
    "    files = files[5:]\n",
    "    files_prfm_res.append(files)"
   ]
  },
  {
   "cell_type": "code",
   "execution_count": 7,
   "metadata": {},
   "outputs": [
    {
     "name": "stdout",
     "output_type": "stream",
     "text": [
      "Milky Way-like\n",
      "ETG, vlM\n",
      "ETG, lowM\n",
      "ETG, medM\n",
      "ETG, hiM\n"
     ]
    }
   ],
   "source": [
    "tau_deps_prfm_res, SFRs_prfm_res = [], []\n",
    "for files, title in zip(files_prfm_res, titles):\n",
    "    print(title)\n",
    "    tau_deps, SFRs = ph.collect_tau_deps(files)\n",
    "    tau_deps_prfm_res.append(tau_deps)\n",
    "    SFRs_prfm_res.append(SFRs)"
   ]
  },
  {
   "cell_type": "code",
   "execution_count": 8,
   "metadata": {},
   "outputs": [
    {
     "name": "stdout",
     "output_type": "stream",
     "text": [
      "Milky Way-like\n",
      "ETG, vlM\n",
      "ETG, lowM\n",
      "ETG, medM\n",
      "ETG, hiM\n"
     ]
    }
   ],
   "source": [
    "tau_dyns_prfm_res = []\n",
    "for files, title in zip(files_prfm_res, titles):\n",
    "    print(title)\n",
    "    tau_dyns = ph.collect_tau_dyns_prfm(files)\n",
    "    tau_dyns_prfm_res.append(tau_dyns)"
   ]
  },
  {
   "cell_type": "markdown",
   "metadata": {},
   "source": [
    "## Springel & Hernquist 03"
   ]
  },
  {
   "cell_type": "code",
   "execution_count": 9,
   "metadata": {},
   "outputs": [],
   "source": [
    "# SH03 files\n",
    "dirs_SH03 = [\n",
    "    '/LtU/LOW-SH03/',\n",
    "    '/LOW-ETGs/vlM/',\n",
    "    '/LOW-ETGs/lowM/',\n",
    "    '/LOW-ETGs/medM/',\n",
    "    '/LOW-ETGs/hiM/'\n",
    "]\n",
    "files_SH03 = []\n",
    "for dir_SH03 in dirs_SH03:\n",
    "    files = glob.glob('/n/holystore01/LABS/itc_lab/Users/sjeffreson/'+dir_SH03+'/output/snap_*.hdf5')\n",
    "    files = [x for _, x in sorted(zip([int(re.search(r'\\d+', x).group()) for x in files], files))]\n",
    "    files = files[5:]\n",
    "    files_SH03.append(files)"
   ]
  },
  {
   "cell_type": "code",
   "execution_count": 10,
   "metadata": {},
   "outputs": [
    {
     "name": "stdout",
     "output_type": "stream",
     "text": [
      "Milky Way-like\n",
      "ETG, vlM\n",
      "ETG, lowM\n",
      "ETG, medM\n",
      "ETG, hiM\n"
     ]
    }
   ],
   "source": [
    "tau_deps_SH03, SFRs_SH03 = [], []\n",
    "for files, title in zip(files_SH03, titles):\n",
    "    print(title)\n",
    "    tau_deps, SFRs = ph.collect_tau_deps(files)\n",
    "    tau_deps_SH03.append(tau_deps)\n",
    "    SFRs_SH03.append(SFRs)"
   ]
  },
  {
   "cell_type": "code",
   "execution_count": 13,
   "metadata": {},
   "outputs": [
    {
     "name": "stdout",
     "output_type": "stream",
     "text": [
      "Milky Way-like\n",
      "ETG, vlM\n",
      "ETG, lowM\n",
      "ETG, medM\n",
      "ETG, hiM\n"
     ]
    }
   ],
   "source": [
    "tau_dyns_SH03 = []\n",
    "for files, title in zip(files_SH03, titles):\n",
    "    print(title)\n",
    "    tau_dyns = ph.collect_tau_dyns(files, mode='SH03')\n",
    "    tau_dyns_SH03.append(tau_dyns)"
   ]
  },
  {
   "cell_type": "markdown",
   "metadata": {},
   "source": [
    "## high-resolution galaxies"
   ]
  },
  {
   "cell_type": "code",
   "execution_count": null,
   "metadata": {},
   "outputs": [],
   "source": []
  },
  {
   "cell_type": "markdown",
   "metadata": {},
   "source": [
    "# figure"
   ]
  },
  {
   "cell_type": "code",
   "execution_count": 19,
   "metadata": {},
   "outputs": [
    {
     "data": {
      "image/png": "[encoded data removed]",
      "text/plain": [
       "<Figure size 1400x1700 with 20 Axes>"
      ]
     },
     "metadata": {},
     "output_type": "display_data"
    }
   ],
   "source": [
    "# 2D histogram of tau_dyn (x-axis) vs. tau_dep (y-axis) for PRFM and control (SH03) case,\n",
    "# on two separate axes\n",
    "fig, ax = plt.subplots(5, 4, figsize=(14, 17))\n",
    "\n",
    "# PRFM unresolved\n",
    "for i in range(5):\n",
    "    tau_deps, tau_dyns, SFRs = tau_deps_prfm[i], tau_dyns_prfm[i], SFRs_prfm[i]\n",
    "    frac_SFR, _, _, _ = binned_statistic_2d(\n",
    "        np.log10(tau_dyns/ah.Gyr_to_s), np.log10(tau_deps/ah.Gyr_to_s),\n",
    "        SFRs, statistic='sum',\n",
    "        bins=(np.linspace(-4., 0., 50), np.linspace(-3., 2., 50))\n",
    "    )\n",
    "    frac_SFR /= np.sum(frac_SFR)\n",
    "    ax[i,0].imshow(frac_SFR.T, origin='lower',\n",
    "                     extent=(-4., 0., -3., 2.), aspect='auto',\n",
    "                     cmap=plt.cm.bone_r, norm=LogNorm(vmin=1.e-4, vmax=1.e-1))\n",
    "ax[0,0].set_title('PRFM unresolved', pad=10, fontsize=20)\n",
    "\n",
    "# PRFM resolved\n",
    "for i in range(5):\n",
    "    tau_deps, tau_dyns, SFRs = tau_deps_prfm_res[i], tau_dyns_prfm_res[i], SFRs_prfm_res[i]\n",
    "    frac_SFR, _, _, _ = binned_statistic_2d(\n",
    "        np.log10(tau_dyns/ah.Gyr_to_s), np.log10(tau_deps/ah.Gyr_to_s),\n",
    "        SFRs, statistic='sum',\n",
    "        bins=(np.linspace(-4., 0., 50), np.linspace(-3., 2., 50))\n",
    "    )\n",
    "    frac_SFR /= np.sum(frac_SFR)\n",
    "    ax[i,1].imshow(frac_SFR.T, origin='lower',\n",
    "                     extent=(-4., 0., -3., 2.), aspect='auto',\n",
    "                     cmap=plt.cm.bone_r, norm=LogNorm(vmin=1.e-4, vmax=1.e-1))\n",
    "ax[0,1].set_title('PRFM resolved', pad=10, fontsize=20)\n",
    "\n",
    "# SH03\n",
    "for i in range(5):\n",
    "    tau_deps, tau_dyns, SFRs = tau_deps_SH03[i], tau_dyns_SH03[i], SFRs_SH03[i]\n",
    "    frac_SFR, _, _, _ = binned_statistic_2d(\n",
    "        np.log10(tau_dyns/ah.Gyr_to_s), np.log10(tau_deps/ah.Gyr_to_s),\n",
    "        SFRs, statistic='sum',\n",
    "        bins=(np.linspace(-4., 0., 50), np.linspace(-3., 2., 50))\n",
    "    )\n",
    "    frac_SFR /= np.sum(frac_SFR)\n",
    "    ax[i,2].imshow(frac_SFR.T, origin='lower',\n",
    "                     extent=(-4., 0., -3., 2.), aspect='auto',\n",
    "                     cmap=plt.cm.bone_r, norm=LogNorm(vmin=1.e-4, vmax=1.e-1))\n",
    "ax[0,2].set_title('SH03', pad=10, fontsize=20)\n",
    "\n",
    "# remove y-labels\n",
    "for i in range(1, 4):\n",
    "    for j in range(5):\n",
    "        ax[j,i].set_yticklabels([])\n",
    "# remove x-labels\n",
    "for i in range(4):\n",
    "    for j in range(4):\n",
    "        ax[j,i].set_xticklabels([])\n",
    "\n",
    "plt.subplots_adjust(hspace=0.1, wspace=0.1)\n",
    "plt.show()"
   ]
  },
  {
   "cell_type": "code",
   "execution_count": null,
   "metadata": {},
   "outputs": [],
   "source": []
  },
  {
   "cell_type": "code",
   "execution_count": null,
   "metadata": {},
   "outputs": [],
   "source": []
  },
  {
   "cell_type": "code",
   "execution_count": null,
   "metadata": {},
   "outputs": [],
   "source": []
  }
 ],
 "metadata": {
  "kernelspec": {
   "display_name": "Python 3 (ipykernel)",
   "language": "python",
   "name": "python3"
  },
  "language_info": {
   "codemirror_mode": {
    "name": "ipython",
    "version": 3
   },
   "file_extension": ".py",
   "mimetype": "text/x-python",
   "name": "python",
   "nbconvert_exporter": "python",
   "pygments_lexer": "ipython3",
   "version": "3.8.18"
  }
 },
 "nbformat": 4,
 "nbformat_minor": 4
}

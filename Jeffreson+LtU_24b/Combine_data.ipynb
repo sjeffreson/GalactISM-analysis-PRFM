{
 "cells": [
  {
   "cell_type": "markdown",
   "metadata": {},
   "source": [
    "# Combine the data computed for Jeffreson+LtU, 2024 using the PRFMData class in the parent directory"
   ]
  },
  {
   "cell_type": "code",
   "execution_count": 6,
   "metadata": {},
   "outputs": [
    {
     "data": {
      "text/plain": [
       "['./config/config_pressures-SFRs.ini']"
      ]
     },
     "execution_count": 6,
     "metadata": {},
     "output_type": "execute_result"
    }
   ],
   "source": [
    "import numpy as np\n",
    "import pickle\n",
    "from pathlib import Path\n",
    "import glob, sys\n",
    "sys.path.append('../')\n",
    "\n",
    "import configparser\n",
    "config = configparser.ConfigParser()\n",
    "config.read('./config/config_pressures-SFRs.ini')"
   ]
  },
  {
   "cell_type": "code",
   "execution_count": 7,
   "metadata": {},
   "outputs": [],
   "source": [
    "tags = ['ETG-vlM', 'ETG-lowM', 'ETG-medM', 'ETG-hiM', 'MW', 'NGC300']\n",
    "Rmaxs_kpc = [config[tag].getfloat('RMAX') for tag in tags]\n",
    "Rmaxs_kpc = [1.5 if elem==2. else elem for elem in Rmaxs_kpc] # cut to actual max size of ETGs"
   ]
  },
  {
   "cell_type": "markdown",
   "metadata": {},
   "source": [
    "# simulation data"
   ]
  },
  {
   "cell_type": "code",
   "execution_count": 10,
   "metadata": {},
   "outputs": [],
   "source": [
    "dicts = [{}, {}, {}, {}, {}, {}]\n",
    "for tag, dict in zip(tags, dicts):\n",
    "    filesavedir = Path(config[tag]['ROOT_DIR']) / config[tag]['SUBDIR']\n",
    "\n",
    "    # weight from this array (temperature threshold here has no impact)\n",
    "    filesavename = min(glob.glob(str(filesavedir / \"weights_*.pkl\")))\n",
    "    with open(filesavename, \"rb\") as f:\n",
    "        props_3D = pickle.load(f)\n",
    "    for key in props_3D.keys():\n",
    "        dict[key] = props_3D[key]\n",
    "\n",
    "    # weight from this array (temperature threshold here has no impact)\n",
    "    filesavename = min(glob.glob(str(filesavedir / \"Figs-10-11_*_T2.0e+04_avir2.0e+00.pkl\")))\n",
    "    with open(filesavename, \"rb\") as f:\n",
    "        props_3D = pickle.load(f)\n",
    "    for key in props_3D.keys():\n",
    "        dict[key] = props_3D[key]\n",
    "\n",
    "    # pressures, counts and SFRs from this array (respond to temperature threshold)\n",
    "    filesavename = min(glob.glob(str(filesavedir / \"pressures-SFRs-fixed-mp_*_T2.0e+04_avir2.0e+00.pkl\")))\n",
    "    with open(filesavename, \"rb\") as f:\n",
    "        props_3D = pickle.load(f)\n",
    "    for key in props_3D.keys():\n",
    "        dict[key] = props_3D[key]\n",
    "    \n",
    "    # radial bin data from this array\n",
    "    filesavename = min(glob.glob(str(filesavedir / \"Rbin_centers_*.pkl\")))\n",
    "    with open(filesavename, \"rb\") as f:\n",
    "        Rbins = pickle.load(f)\n",
    "    dict['Rbins'] = Rbins"
   ]
  },
  {
   "cell_type": "code",
   "execution_count": 23,
   "metadata": {},
   "outputs": [
    {
     "name": "stdout",
     "output_type": "stream",
     "text": [
      "dict_keys(['Force', 'ForceLeft', 'ForceRight', 'PtlMinIdcs', 'count', 'midplane-count', 'midplane-dens', 'SigmaH2Gas', 'SigmaGas', 'Kappa', 'Ptot', 'Ptherm', 'Pturb', 'SigmaSFR', 'Rbins'])\n"
     ]
    }
   ],
   "source": [
    "print(dicts[0].keys())"
   ]
  },
  {
   "cell_type": "code",
   "execution_count": 22,
   "metadata": {
    "collapsed": true,
    "jupyter": {
     "outputs_hidden": true
    }
   },
   "outputs": [
    {
     "name": "stdout",
     "output_type": "stream",
     "text": [
      "Saved: /n/holystore01/LABS/itc_lab/Users/sjeffreson/ETGs/vlM-output/props_3D_ETG-vlM.pkl\n",
      "Saved: /n/holystore01/LABS/itc_lab/Users/sjeffreson/ETGs/lowM-output/props_3D_ETG-lowM.pkl\n",
      "Saved: /n/holystore01/LABS/itc_lab/Users/sjeffreson/ETGs/medM-output/props_3D_ETG-medM.pkl\n",
      "Saved: /n/holystore01/LABS/itc_lab/Users/sjeffreson/ETGs/hiM-output/props_3D_ETG-hiM.pkl\n",
      "Saved: /n/holystore01/LABS/loeb_lab/Users/sjeffreson/MW-tracers/props_3D_MW.pkl\n",
      "Saved: /n/holystore01/LABS/itc_lab/Users/sjeffreson/NGC300/props_3D_NGC300.pkl\n"
     ]
    }
   ],
   "source": [
    "# save each dictionary as a pickle\n",
    "for tag, dict in zip(tags, dicts):\n",
    "    filesavedir = Path(config[tag]['ROOT_DIR']) / config[tag]['SUBDIR']\n",
    "    filesavename = filesavedir / f\"props_3D_{tag}.pkl\"\n",
    "    with open(filesavename, \"wb\") as f:\n",
    "        pickle.dump(dict, f)\n",
    "    print(f\"Saved: {filesavename}\")"
   ]
  },
  {
   "cell_type": "code",
   "execution_count": null,
   "metadata": {},
   "outputs": [],
   "source": []
  },
  {
   "cell_type": "code",
   "execution_count": null,
   "metadata": {},
   "outputs": [],
   "source": []
  },
  {
   "cell_type": "code",
   "execution_count": null,
   "metadata": {},
   "outputs": [],
   "source": []
  },
  {
   "cell_type": "code",
   "execution_count": null,
   "metadata": {},
   "outputs": [],
   "source": []
  }
 ],
 "metadata": {
  "kernelspec": {
   "display_name": "Python 3 (ipykernel)",
   "language": "python",
   "name": "python3"
  },
  "language_info": {
   "codemirror_mode": {
    "name": "ipython",
    "version": 3
   },
   "file_extension": ".py",
   "mimetype": "text/x-python",
   "name": "python",
   "nbconvert_exporter": "python",
   "pygments_lexer": "ipython3",
   "version": "3.8.18"
  }
 },
 "nbformat": 4,
 "nbformat_minor": 4
}
